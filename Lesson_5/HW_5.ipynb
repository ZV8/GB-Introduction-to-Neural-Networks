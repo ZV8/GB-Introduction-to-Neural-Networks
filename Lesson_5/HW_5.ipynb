{
  "cells": [
    {
      "cell_type": "code",
      "execution_count": 1,
      "metadata": {
        "id": "IOX9KcxcbMNB"
      },
      "outputs": [],
      "source": [
        "# Рисовать графики сразу же\n",
        "%matplotlib inline\n",
        "\n",
        "import pandas as pd\n",
        "import matplotlib.pyplot as plt\n",
        "from tensorflow.keras import utils\n",
        "import numpy as np\n",
        "import tensorflow.keras as keras\n",
        "from tensorflow.keras.optimizers import Adam\n",
        "from tensorflow.keras.models import Sequential, Model\n",
        "from tensorflow.keras.layers import concatenate, Input, Dense, Dropout, BatchNormalization, Flatten, Conv1D, Conv2D, LSTM\n",
        "\n",
        "from google.colab import files\n",
        "from sklearn.preprocessing import StandardScaler, MinMaxScaler"
      ]
    },
    {
      "cell_type": "code",
      "execution_count": 2,
      "metadata": {
        "id": "ONmUVeyPTC-2"
      },
      "outputs": [],
      "source": [
        "import os\n",
        "import datetime"
      ]
    },
    {
      "cell_type": "markdown",
      "metadata": {
        "id": "z_oyGi2WWnjS"
      },
      "source": [
        "для использования TensorBoard в колаборатории\n",
        "https://colab.research.google.com/github/tensorflow/tensorboard/blob/master/docs/tensorboard_in_notebooks.ipynb#scrollTo=**hzm9DNVILxJe**"
      ]
    },
    {
      "cell_type": "code",
      "execution_count": 3,
      "metadata": {
        "id": "jLTes3QIS4vm"
      },
      "outputs": [],
      "source": [
        "%load_ext tensorboard"
      ]
    },
    {
      "cell_type": "code",
      "execution_count": 4,
      "metadata": {
        "id": "TvWj5CfUPq7i"
      },
      "outputs": [],
      "source": [
        "from tensorflow.keras.callbacks import EarlyStopping, TensorBoard"
      ]
    },
    {
      "cell_type": "markdown",
      "metadata": {
        "id": "U6Of5-M3nxnM"
      },
      "source": [
        "Читаем данные из файла со значениями (потребление энергии дневные отсчеты)"
      ]
    },
    {
      "cell_type": "code",
      "execution_count": 5,
      "metadata": {
        "colab": {
          "base_uri": "https://localhost:8080/",
          "height": 109,
          "resources": {
            "http://localhost:8080/nbextensions/google.colab/files.js": {
              "data": "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",
              "headers": [
                [
                  "content-type",
                  "application/javascript"
                ]
              ],
              "ok": true,
              "status": 200,
              "status_text": ""
            }
          }
        },
        "id": "YVyA-Lf-blzj",
        "outputId": "70f5c04b-68f5-4b6f-e810-2ea59ece90d1"
      },
      "outputs": [
        {
          "output_type": "display_data",
          "data": {
            "text/html": [
              "\n",
              "     <input type=\"file\" id=\"files-a047bff7-0489-4017-a914-38b351dfe071\" name=\"files[]\" multiple disabled\n",
              "        style=\"border:none\" />\n",
              "     <output id=\"result-a047bff7-0489-4017-a914-38b351dfe071\">\n",
              "      Upload widget is only available when the cell has been executed in the\n",
              "      current browser session. Please rerun this cell to enable.\n",
              "      </output>\n",
              "      <script src=\"/nbextensions/google.colab/files.js\"></script> "
            ],
            "text/plain": [
              "<IPython.core.display.HTML object>"
            ]
          },
          "metadata": {}
        },
        {
          "output_type": "stream",
          "name": "stdout",
          "text": [
            "Saving airline-passengers.csv to airline-passengers (3).csv\n",
            "'airline-passengers (1).csv'  'airline-passengers (3).csv'   logs2\n",
            "'airline-passengers (2).csv'   airline-passengers.csv\t     sample_data\n"
          ]
        }
      ],
      "source": [
        "files.upload()\n",
        "!ls"
      ]
    },
    {
      "cell_type": "code",
      "execution_count": 8,
      "metadata": {
        "id": "FbOkFf_7cgWa",
        "colab": {
          "base_uri": "https://localhost:8080/",
          "height": 235
        },
        "outputId": "1f6ac84c-8572-4044-ae3d-6739dad94ece"
      },
      "outputs": [
        {
          "output_type": "execute_result",
          "data": {
            "text/html": [
              "\n",
              "  <div id=\"df-a36826ff-4208-4b50-8ff0-89c8d0813195\">\n",
              "    <div class=\"colab-df-container\">\n",
              "      <div>\n",
              "<style scoped>\n",
              "    .dataframe tbody tr th:only-of-type {\n",
              "        vertical-align: middle;\n",
              "    }\n",
              "\n",
              "    .dataframe tbody tr th {\n",
              "        vertical-align: top;\n",
              "    }\n",
              "\n",
              "    .dataframe thead th {\n",
              "        text-align: right;\n",
              "    }\n",
              "</style>\n",
              "<table border=\"1\" class=\"dataframe\">\n",
              "  <thead>\n",
              "    <tr style=\"text-align: right;\">\n",
              "      <th></th>\n",
              "      <th>Passengers</th>\n",
              "    </tr>\n",
              "    <tr>\n",
              "      <th>Month</th>\n",
              "      <th></th>\n",
              "    </tr>\n",
              "  </thead>\n",
              "  <tbody>\n",
              "    <tr>\n",
              "      <th>1949-01</th>\n",
              "      <td>112</td>\n",
              "    </tr>\n",
              "    <tr>\n",
              "      <th>1949-02</th>\n",
              "      <td>118</td>\n",
              "    </tr>\n",
              "    <tr>\n",
              "      <th>1949-03</th>\n",
              "      <td>132</td>\n",
              "    </tr>\n",
              "    <tr>\n",
              "      <th>1949-04</th>\n",
              "      <td>129</td>\n",
              "    </tr>\n",
              "    <tr>\n",
              "      <th>1949-05</th>\n",
              "      <td>121</td>\n",
              "    </tr>\n",
              "  </tbody>\n",
              "</table>\n",
              "</div>\n",
              "      <button class=\"colab-df-convert\" onclick=\"convertToInteractive('df-a36826ff-4208-4b50-8ff0-89c8d0813195')\"\n",
              "              title=\"Convert this dataframe to an interactive table.\"\n",
              "              style=\"display:none;\">\n",
              "        \n",
              "  <svg xmlns=\"http://www.w3.org/2000/svg\" height=\"24px\"viewBox=\"0 0 24 24\"\n",
              "       width=\"24px\">\n",
              "    <path d=\"M0 0h24v24H0V0z\" fill=\"none\"/>\n",
              "    <path d=\"M18.56 5.44l.94 2.06.94-2.06 2.06-.94-2.06-.94-.94-2.06-.94 2.06-2.06.94zm-11 1L8.5 8.5l.94-2.06 2.06-.94-2.06-.94L8.5 2.5l-.94 2.06-2.06.94zm10 10l.94 2.06.94-2.06 2.06-.94-2.06-.94-.94-2.06-.94 2.06-2.06.94z\"/><path d=\"M17.41 7.96l-1.37-1.37c-.4-.4-.92-.59-1.43-.59-.52 0-1.04.2-1.43.59L10.3 9.45l-7.72 7.72c-.78.78-.78 2.05 0 2.83L4 21.41c.39.39.9.59 1.41.59.51 0 1.02-.2 1.41-.59l7.78-7.78 2.81-2.81c.8-.78.8-2.07 0-2.86zM5.41 20L4 18.59l7.72-7.72 1.47 1.35L5.41 20z\"/>\n",
              "  </svg>\n",
              "      </button>\n",
              "      \n",
              "  <style>\n",
              "    .colab-df-container {\n",
              "      display:flex;\n",
              "      flex-wrap:wrap;\n",
              "      gap: 12px;\n",
              "    }\n",
              "\n",
              "    .colab-df-convert {\n",
              "      background-color: #E8F0FE;\n",
              "      border: none;\n",
              "      border-radius: 50%;\n",
              "      cursor: pointer;\n",
              "      display: none;\n",
              "      fill: #1967D2;\n",
              "      height: 32px;\n",
              "      padding: 0 0 0 0;\n",
              "      width: 32px;\n",
              "    }\n",
              "\n",
              "    .colab-df-convert:hover {\n",
              "      background-color: #E2EBFA;\n",
              "      box-shadow: 0px 1px 2px rgba(60, 64, 67, 0.3), 0px 1px 3px 1px rgba(60, 64, 67, 0.15);\n",
              "      fill: #174EA6;\n",
              "    }\n",
              "\n",
              "    [theme=dark] .colab-df-convert {\n",
              "      background-color: #3B4455;\n",
              "      fill: #D2E3FC;\n",
              "    }\n",
              "\n",
              "    [theme=dark] .colab-df-convert:hover {\n",
              "      background-color: #434B5C;\n",
              "      box-shadow: 0px 1px 3px 1px rgba(0, 0, 0, 0.15);\n",
              "      filter: drop-shadow(0px 1px 2px rgba(0, 0, 0, 0.3));\n",
              "      fill: #FFFFFF;\n",
              "    }\n",
              "  </style>\n",
              "\n",
              "      <script>\n",
              "        const buttonEl =\n",
              "          document.querySelector('#df-a36826ff-4208-4b50-8ff0-89c8d0813195 button.colab-df-convert');\n",
              "        buttonEl.style.display =\n",
              "          google.colab.kernel.accessAllowed ? 'block' : 'none';\n",
              "\n",
              "        async function convertToInteractive(key) {\n",
              "          const element = document.querySelector('#df-a36826ff-4208-4b50-8ff0-89c8d0813195');\n",
              "          const dataTable =\n",
              "            await google.colab.kernel.invokeFunction('convertToInteractive',\n",
              "                                                     [key], {});\n",
              "          if (!dataTable) return;\n",
              "\n",
              "          const docLinkHtml = 'Like what you see? Visit the ' +\n",
              "            '<a target=\"_blank\" href=https://colab.research.google.com/notebooks/data_table.ipynb>data table notebook</a>'\n",
              "            + ' to learn more about interactive tables.';\n",
              "          element.innerHTML = '';\n",
              "          dataTable['output_type'] = 'display_data';\n",
              "          await google.colab.output.renderOutput(dataTable, element);\n",
              "          const docLink = document.createElement('div');\n",
              "          docLink.innerHTML = docLinkHtml;\n",
              "          element.appendChild(docLink);\n",
              "        }\n",
              "      </script>\n",
              "    </div>\n",
              "  </div>\n",
              "  "
            ],
            "text/plain": [
              "         Passengers\n",
              "Month              \n",
              "1949-01         112\n",
              "1949-02         118\n",
              "1949-03         132\n",
              "1949-04         129\n",
              "1949-05         121"
            ]
          },
          "metadata": {},
          "execution_count": 8
        }
      ],
      "source": [
        "#df = pd.read_csv('my_BRENT2019.csv')\n",
        "df = pd.read_csv('/content/airline-passengers.csv')\n",
        "df.index = df.Month\n",
        "df.drop(['Month'],axis=1,inplace = True)\n",
        "df.head()\n"
      ]
    },
    {
      "cell_type": "markdown",
      "source": [
        "Сортируем по дате"
      ],
      "metadata": {
        "id": "j67MmECOvlJW"
      }
    },
    {
      "cell_type": "code",
      "execution_count": 9,
      "metadata": {
        "colab": {
          "base_uri": "https://localhost:8080/",
          "height": 235
        },
        "id": "XL93ECHzyv88",
        "outputId": "71f06631-bb93-419e-f969-6637148876d4"
      },
      "outputs": [
        {
          "output_type": "execute_result",
          "data": {
            "text/html": [
              "\n",
              "  <div id=\"df-bb41a0fa-0128-43e6-9231-3429500d4feb\">\n",
              "    <div class=\"colab-df-container\">\n",
              "      <div>\n",
              "<style scoped>\n",
              "    .dataframe tbody tr th:only-of-type {\n",
              "        vertical-align: middle;\n",
              "    }\n",
              "\n",
              "    .dataframe tbody tr th {\n",
              "        vertical-align: top;\n",
              "    }\n",
              "\n",
              "    .dataframe thead th {\n",
              "        text-align: right;\n",
              "    }\n",
              "</style>\n",
              "<table border=\"1\" class=\"dataframe\">\n",
              "  <thead>\n",
              "    <tr style=\"text-align: right;\">\n",
              "      <th></th>\n",
              "      <th>Passengers</th>\n",
              "    </tr>\n",
              "    <tr>\n",
              "      <th>Month</th>\n",
              "      <th></th>\n",
              "    </tr>\n",
              "  </thead>\n",
              "  <tbody>\n",
              "    <tr>\n",
              "      <th>1949-01</th>\n",
              "      <td>112</td>\n",
              "    </tr>\n",
              "    <tr>\n",
              "      <th>1949-02</th>\n",
              "      <td>118</td>\n",
              "    </tr>\n",
              "    <tr>\n",
              "      <th>1949-03</th>\n",
              "      <td>132</td>\n",
              "    </tr>\n",
              "    <tr>\n",
              "      <th>1949-04</th>\n",
              "      <td>129</td>\n",
              "    </tr>\n",
              "    <tr>\n",
              "      <th>1949-05</th>\n",
              "      <td>121</td>\n",
              "    </tr>\n",
              "  </tbody>\n",
              "</table>\n",
              "</div>\n",
              "      <button class=\"colab-df-convert\" onclick=\"convertToInteractive('df-bb41a0fa-0128-43e6-9231-3429500d4feb')\"\n",
              "              title=\"Convert this dataframe to an interactive table.\"\n",
              "              style=\"display:none;\">\n",
              "        \n",
              "  <svg xmlns=\"http://www.w3.org/2000/svg\" height=\"24px\"viewBox=\"0 0 24 24\"\n",
              "       width=\"24px\">\n",
              "    <path d=\"M0 0h24v24H0V0z\" fill=\"none\"/>\n",
              "    <path d=\"M18.56 5.44l.94 2.06.94-2.06 2.06-.94-2.06-.94-.94-2.06-.94 2.06-2.06.94zm-11 1L8.5 8.5l.94-2.06 2.06-.94-2.06-.94L8.5 2.5l-.94 2.06-2.06.94zm10 10l.94 2.06.94-2.06 2.06-.94-2.06-.94-.94-2.06-.94 2.06-2.06.94z\"/><path d=\"M17.41 7.96l-1.37-1.37c-.4-.4-.92-.59-1.43-.59-.52 0-1.04.2-1.43.59L10.3 9.45l-7.72 7.72c-.78.78-.78 2.05 0 2.83L4 21.41c.39.39.9.59 1.41.59.51 0 1.02-.2 1.41-.59l7.78-7.78 2.81-2.81c.8-.78.8-2.07 0-2.86zM5.41 20L4 18.59l7.72-7.72 1.47 1.35L5.41 20z\"/>\n",
              "  </svg>\n",
              "      </button>\n",
              "      \n",
              "  <style>\n",
              "    .colab-df-container {\n",
              "      display:flex;\n",
              "      flex-wrap:wrap;\n",
              "      gap: 12px;\n",
              "    }\n",
              "\n",
              "    .colab-df-convert {\n",
              "      background-color: #E8F0FE;\n",
              "      border: none;\n",
              "      border-radius: 50%;\n",
              "      cursor: pointer;\n",
              "      display: none;\n",
              "      fill: #1967D2;\n",
              "      height: 32px;\n",
              "      padding: 0 0 0 0;\n",
              "      width: 32px;\n",
              "    }\n",
              "\n",
              "    .colab-df-convert:hover {\n",
              "      background-color: #E2EBFA;\n",
              "      box-shadow: 0px 1px 2px rgba(60, 64, 67, 0.3), 0px 1px 3px 1px rgba(60, 64, 67, 0.15);\n",
              "      fill: #174EA6;\n",
              "    }\n",
              "\n",
              "    [theme=dark] .colab-df-convert {\n",
              "      background-color: #3B4455;\n",
              "      fill: #D2E3FC;\n",
              "    }\n",
              "\n",
              "    [theme=dark] .colab-df-convert:hover {\n",
              "      background-color: #434B5C;\n",
              "      box-shadow: 0px 1px 3px 1px rgba(0, 0, 0, 0.15);\n",
              "      filter: drop-shadow(0px 1px 2px rgba(0, 0, 0, 0.3));\n",
              "      fill: #FFFFFF;\n",
              "    }\n",
              "  </style>\n",
              "\n",
              "      <script>\n",
              "        const buttonEl =\n",
              "          document.querySelector('#df-bb41a0fa-0128-43e6-9231-3429500d4feb button.colab-df-convert');\n",
              "        buttonEl.style.display =\n",
              "          google.colab.kernel.accessAllowed ? 'block' : 'none';\n",
              "\n",
              "        async function convertToInteractive(key) {\n",
              "          const element = document.querySelector('#df-bb41a0fa-0128-43e6-9231-3429500d4feb');\n",
              "          const dataTable =\n",
              "            await google.colab.kernel.invokeFunction('convertToInteractive',\n",
              "                                                     [key], {});\n",
              "          if (!dataTable) return;\n",
              "\n",
              "          const docLinkHtml = 'Like what you see? Visit the ' +\n",
              "            '<a target=\"_blank\" href=https://colab.research.google.com/notebooks/data_table.ipynb>data table notebook</a>'\n",
              "            + ' to learn more about interactive tables.';\n",
              "          element.innerHTML = '';\n",
              "          dataTable['output_type'] = 'display_data';\n",
              "          await google.colab.output.renderOutput(dataTable, element);\n",
              "          const docLink = document.createElement('div');\n",
              "          docLink.innerHTML = docLinkHtml;\n",
              "          element.appendChild(docLink);\n",
              "        }\n",
              "      </script>\n",
              "    </div>\n",
              "  </div>\n",
              "  "
            ],
            "text/plain": [
              "         Passengers\n",
              "Month              \n",
              "1949-01         112\n",
              "1949-02         118\n",
              "1949-03         132\n",
              "1949-04         129\n",
              "1949-05         121"
            ]
          },
          "metadata": {},
          "execution_count": 9
        }
      ],
      "source": [
        "df.sort_index(ascending=True, inplace=True)\n",
        "df.head()"
      ]
    },
    {
      "cell_type": "code",
      "execution_count": 10,
      "metadata": {
        "colab": {
          "base_uri": "https://localhost:8080/",
          "height": 334
        },
        "id": "zk7Xkqlry6yX",
        "outputId": "7b6f8790-b37b-41df-abc0-282371226b3e"
      },
      "outputs": [
        {
          "output_type": "display_data",
          "data": {
            "image/png": "[encoded data removed]",
            "text/plain": [
              "<Figure size 1152x360 with 1 Axes>"
            ]
          },
          "metadata": {
            "needs_background": "light"
          }
        }
      ],
      "source": [
        "df.plot( figsize = (16,5))\n",
        "\n",
        "plt.grid('On')\n",
        "plt.show()"
      ]
    },
    {
      "cell_type": "code",
      "execution_count": 11,
      "metadata": {
        "colab": {
          "base_uri": "https://localhost:8080/",
          "height": 297
        },
        "id": "vPZuXBqGE9gG",
        "outputId": "7013286d-9d81-498b-c21a-4ca7de7d4b6e"
      },
      "outputs": [
        {
          "output_type": "execute_result",
          "data": {
            "text/html": [
              "\n",
              "  <div id=\"df-4954846c-9c95-45d7-92c1-3431afc750ea\">\n",
              "    <div class=\"colab-df-container\">\n",
              "      <div>\n",
              "<style scoped>\n",
              "    .dataframe tbody tr th:only-of-type {\n",
              "        vertical-align: middle;\n",
              "    }\n",
              "\n",
              "    .dataframe tbody tr th {\n",
              "        vertical-align: top;\n",
              "    }\n",
              "\n",
              "    .dataframe thead th {\n",
              "        text-align: right;\n",
              "    }\n",
              "</style>\n",
              "<table border=\"1\" class=\"dataframe\">\n",
              "  <thead>\n",
              "    <tr style=\"text-align: right;\">\n",
              "      <th></th>\n",
              "      <th>Passengers</th>\n",
              "    </tr>\n",
              "  </thead>\n",
              "  <tbody>\n",
              "    <tr>\n",
              "      <th>count</th>\n",
              "      <td>144.000000</td>\n",
              "    </tr>\n",
              "    <tr>\n",
              "      <th>mean</th>\n",
              "      <td>280.298611</td>\n",
              "    </tr>\n",
              "    <tr>\n",
              "      <th>std</th>\n",
              "      <td>119.966317</td>\n",
              "    </tr>\n",
              "    <tr>\n",
              "      <th>min</th>\n",
              "      <td>104.000000</td>\n",
              "    </tr>\n",
              "    <tr>\n",
              "      <th>25%</th>\n",
              "      <td>180.000000</td>\n",
              "    </tr>\n",
              "    <tr>\n",
              "      <th>50%</th>\n",
              "      <td>265.500000</td>\n",
              "    </tr>\n",
              "    <tr>\n",
              "      <th>75%</th>\n",
              "      <td>360.500000</td>\n",
              "    </tr>\n",
              "    <tr>\n",
              "      <th>max</th>\n",
              "      <td>622.000000</td>\n",
              "    </tr>\n",
              "  </tbody>\n",
              "</table>\n",
              "</div>\n",
              "      <button class=\"colab-df-convert\" onclick=\"convertToInteractive('df-4954846c-9c95-45d7-92c1-3431afc750ea')\"\n",
              "              title=\"Convert this dataframe to an interactive table.\"\n",
              "              style=\"display:none;\">\n",
              "        \n",
              "  <svg xmlns=\"http://www.w3.org/2000/svg\" height=\"24px\"viewBox=\"0 0 24 24\"\n",
              "       width=\"24px\">\n",
              "    <path d=\"M0 0h24v24H0V0z\" fill=\"none\"/>\n",
              "    <path d=\"M18.56 5.44l.94 2.06.94-2.06 2.06-.94-2.06-.94-.94-2.06-.94 2.06-2.06.94zm-11 1L8.5 8.5l.94-2.06 2.06-.94-2.06-.94L8.5 2.5l-.94 2.06-2.06.94zm10 10l.94 2.06.94-2.06 2.06-.94-2.06-.94-.94-2.06-.94 2.06-2.06.94z\"/><path d=\"M17.41 7.96l-1.37-1.37c-.4-.4-.92-.59-1.43-.59-.52 0-1.04.2-1.43.59L10.3 9.45l-7.72 7.72c-.78.78-.78 2.05 0 2.83L4 21.41c.39.39.9.59 1.41.59.51 0 1.02-.2 1.41-.59l7.78-7.78 2.81-2.81c.8-.78.8-2.07 0-2.86zM5.41 20L4 18.59l7.72-7.72 1.47 1.35L5.41 20z\"/>\n",
              "  </svg>\n",
              "      </button>\n",
              "      \n",
              "  <style>\n",
              "    .colab-df-container {\n",
              "      display:flex;\n",
              "      flex-wrap:wrap;\n",
              "      gap: 12px;\n",
              "    }\n",
              "\n",
              "    .colab-df-convert {\n",
              "      background-color: #E8F0FE;\n",
              "      border: none;\n",
              "      border-radius: 50%;\n",
              "      cursor: pointer;\n",
              "      display: none;\n",
              "      fill: #1967D2;\n",
              "      height: 32px;\n",
              "      padding: 0 0 0 0;\n",
              "      width: 32px;\n",
              "    }\n",
              "\n",
              "    .colab-df-convert:hover {\n",
              "      background-color: #E2EBFA;\n",
              "      box-shadow: 0px 1px 2px rgba(60, 64, 67, 0.3), 0px 1px 3px 1px rgba(60, 64, 67, 0.15);\n",
              "      fill: #174EA6;\n",
              "    }\n",
              "\n",
              "    [theme=dark] .colab-df-convert {\n",
              "      background-color: #3B4455;\n",
              "      fill: #D2E3FC;\n",
              "    }\n",
              "\n",
              "    [theme=dark] .colab-df-convert:hover {\n",
              "      background-color: #434B5C;\n",
              "      box-shadow: 0px 1px 3px 1px rgba(0, 0, 0, 0.15);\n",
              "      filter: drop-shadow(0px 1px 2px rgba(0, 0, 0, 0.3));\n",
              "      fill: #FFFFFF;\n",
              "    }\n",
              "  </style>\n",
              "\n",
              "      <script>\n",
              "        const buttonEl =\n",
              "          document.querySelector('#df-4954846c-9c95-45d7-92c1-3431afc750ea button.colab-df-convert');\n",
              "        buttonEl.style.display =\n",
              "          google.colab.kernel.accessAllowed ? 'block' : 'none';\n",
              "\n",
              "        async function convertToInteractive(key) {\n",
              "          const element = document.querySelector('#df-4954846c-9c95-45d7-92c1-3431afc750ea');\n",
              "          const dataTable =\n",
              "            await google.colab.kernel.invokeFunction('convertToInteractive',\n",
              "                                                     [key], {});\n",
              "          if (!dataTable) return;\n",
              "\n",
              "          const docLinkHtml = 'Like what you see? Visit the ' +\n",
              "            '<a target=\"_blank\" href=https://colab.research.google.com/notebooks/data_table.ipynb>data table notebook</a>'\n",
              "            + ' to learn more about interactive tables.';\n",
              "          element.innerHTML = '';\n",
              "          dataTable['output_type'] = 'display_data';\n",
              "          await google.colab.output.renderOutput(dataTable, element);\n",
              "          const docLink = document.createElement('div');\n",
              "          docLink.innerHTML = docLinkHtml;\n",
              "          element.appendChild(docLink);\n",
              "        }\n",
              "      </script>\n",
              "    </div>\n",
              "  </div>\n",
              "  "
            ],
            "text/plain": [
              "       Passengers\n",
              "count  144.000000\n",
              "mean   280.298611\n",
              "std    119.966317\n",
              "min    104.000000\n",
              "25%    180.000000\n",
              "50%    265.500000\n",
              "75%    360.500000\n",
              "max    622.000000"
            ]
          },
          "metadata": {},
          "execution_count": 11
        }
      ],
      "source": [
        "df.describe()"
      ]
    },
    {
      "cell_type": "markdown",
      "source": [
        "Добавим дату как признаки:\n",
        "как \"месяц в году\" и (год-1949)"
      ],
      "metadata": {
        "id": "kRHbnORbIv26"
      }
    },
    {
      "cell_type": "code",
      "source": [
        "df.index"
      ],
      "metadata": {
        "colab": {
          "base_uri": "https://localhost:8080/"
        },
        "id": "hR7wqzYPJW9t",
        "outputId": "89ff6f38-ccb6-41f8-8554-4a8854d27c7c"
      },
      "execution_count": 12,
      "outputs": [
        {
          "output_type": "execute_result",
          "data": {
            "text/plain": [
              "Index(['1949-01', '1949-02', '1949-03', '1949-04', '1949-05', '1949-06',\n",
              "       '1949-07', '1949-08', '1949-09', '1949-10',\n",
              "       ...\n",
              "       '1960-03', '1960-04', '1960-05', '1960-06', '1960-07', '1960-08',\n",
              "       '1960-09', '1960-10', '1960-11', '1960-12'],\n",
              "      dtype='object', name='Month', length=144)"
            ]
          },
          "metadata": {},
          "execution_count": 12
        }
      ]
    },
    {
      "cell_type": "code",
      "source": [
        "df['month'] = pd.to_datetime(df.index).month\n",
        "df['year'] = pd.to_datetime(df.index).year - 1949\n",
        "df.head()"
      ],
      "metadata": {
        "colab": {
          "base_uri": "https://localhost:8080/",
          "height": 235
        },
        "id": "6aiPfQLDJLK3",
        "outputId": "098f038c-71fe-4a36-959d-579267e020a3"
      },
      "execution_count": 13,
      "outputs": [
        {
          "output_type": "execute_result",
          "data": {
            "text/html": [
              "\n",
              "  <div id=\"df-d5cc0bae-5dae-4553-8969-8f105c990d92\">\n",
              "    <div class=\"colab-df-container\">\n",
              "      <div>\n",
              "<style scoped>\n",
              "    .dataframe tbody tr th:only-of-type {\n",
              "        vertical-align: middle;\n",
              "    }\n",
              "\n",
              "    .dataframe tbody tr th {\n",
              "        vertical-align: top;\n",
              "    }\n",
              "\n",
              "    .dataframe thead th {\n",
              "        text-align: right;\n",
              "    }\n",
              "</style>\n",
              "<table border=\"1\" class=\"dataframe\">\n",
              "  <thead>\n",
              "    <tr style=\"text-align: right;\">\n",
              "      <th></th>\n",
              "      <th>Passengers</th>\n",
              "      <th>month</th>\n",
              "      <th>year</th>\n",
              "    </tr>\n",
              "    <tr>\n",
              "      <th>Month</th>\n",
              "      <th></th>\n",
              "      <th></th>\n",
              "      <th></th>\n",
              "    </tr>\n",
              "  </thead>\n",
              "  <tbody>\n",
              "    <tr>\n",
              "      <th>1949-01</th>\n",
              "      <td>112</td>\n",
              "      <td>1</td>\n",
              "      <td>0</td>\n",
              "    </tr>\n",
              "    <tr>\n",
              "      <th>1949-02</th>\n",
              "      <td>118</td>\n",
              "      <td>2</td>\n",
              "      <td>0</td>\n",
              "    </tr>\n",
              "    <tr>\n",
              "      <th>1949-03</th>\n",
              "      <td>132</td>\n",
              "      <td>3</td>\n",
              "      <td>0</td>\n",
              "    </tr>\n",
              "    <tr>\n",
              "      <th>1949-04</th>\n",
              "      <td>129</td>\n",
              "      <td>4</td>\n",
              "      <td>0</td>\n",
              "    </tr>\n",
              "    <tr>\n",
              "      <th>1949-05</th>\n",
              "      <td>121</td>\n",
              "      <td>5</td>\n",
              "      <td>0</td>\n",
              "    </tr>\n",
              "  </tbody>\n",
              "</table>\n",
              "</div>\n",
              "      <button class=\"colab-df-convert\" onclick=\"convertToInteractive('df-d5cc0bae-5dae-4553-8969-8f105c990d92')\"\n",
              "              title=\"Convert this dataframe to an interactive table.\"\n",
              "              style=\"display:none;\">\n",
              "        \n",
              "  <svg xmlns=\"http://www.w3.org/2000/svg\" height=\"24px\"viewBox=\"0 0 24 24\"\n",
              "       width=\"24px\">\n",
              "    <path d=\"M0 0h24v24H0V0z\" fill=\"none\"/>\n",
              "    <path d=\"M18.56 5.44l.94 2.06.94-2.06 2.06-.94-2.06-.94-.94-2.06-.94 2.06-2.06.94zm-11 1L8.5 8.5l.94-2.06 2.06-.94-2.06-.94L8.5 2.5l-.94 2.06-2.06.94zm10 10l.94 2.06.94-2.06 2.06-.94-2.06-.94-.94-2.06-.94 2.06-2.06.94z\"/><path d=\"M17.41 7.96l-1.37-1.37c-.4-.4-.92-.59-1.43-.59-.52 0-1.04.2-1.43.59L10.3 9.45l-7.72 7.72c-.78.78-.78 2.05 0 2.83L4 21.41c.39.39.9.59 1.41.59.51 0 1.02-.2 1.41-.59l7.78-7.78 2.81-2.81c.8-.78.8-2.07 0-2.86zM5.41 20L4 18.59l7.72-7.72 1.47 1.35L5.41 20z\"/>\n",
              "  </svg>\n",
              "      </button>\n",
              "      \n",
              "  <style>\n",
              "    .colab-df-container {\n",
              "      display:flex;\n",
              "      flex-wrap:wrap;\n",
              "      gap: 12px;\n",
              "    }\n",
              "\n",
              "    .colab-df-convert {\n",
              "      background-color: #E8F0FE;\n",
              "      border: none;\n",
              "      border-radius: 50%;\n",
              "      cursor: pointer;\n",
              "      display: none;\n",
              "      fill: #1967D2;\n",
              "      height: 32px;\n",
              "      padding: 0 0 0 0;\n",
              "      width: 32px;\n",
              "    }\n",
              "\n",
              "    .colab-df-convert:hover {\n",
              "      background-color: #E2EBFA;\n",
              "      box-shadow: 0px 1px 2px rgba(60, 64, 67, 0.3), 0px 1px 3px 1px rgba(60, 64, 67, 0.15);\n",
              "      fill: #174EA6;\n",
              "    }\n",
              "\n",
              "    [theme=dark] .colab-df-convert {\n",
              "      background-color: #3B4455;\n",
              "      fill: #D2E3FC;\n",
              "    }\n",
              "\n",
              "    [theme=dark] .colab-df-convert:hover {\n",
              "      background-color: #434B5C;\n",
              "      box-shadow: 0px 1px 3px 1px rgba(0, 0, 0, 0.15);\n",
              "      filter: drop-shadow(0px 1px 2px rgba(0, 0, 0, 0.3));\n",
              "      fill: #FFFFFF;\n",
              "    }\n",
              "  </style>\n",
              "\n",
              "      <script>\n",
              "        const buttonEl =\n",
              "          document.querySelector('#df-d5cc0bae-5dae-4553-8969-8f105c990d92 button.colab-df-convert');\n",
              "        buttonEl.style.display =\n",
              "          google.colab.kernel.accessAllowed ? 'block' : 'none';\n",
              "\n",
              "        async function convertToInteractive(key) {\n",
              "          const element = document.querySelector('#df-d5cc0bae-5dae-4553-8969-8f105c990d92');\n",
              "          const dataTable =\n",
              "            await google.colab.kernel.invokeFunction('convertToInteractive',\n",
              "                                                     [key], {});\n",
              "          if (!dataTable) return;\n",
              "\n",
              "          const docLinkHtml = 'Like what you see? Visit the ' +\n",
              "            '<a target=\"_blank\" href=https://colab.research.google.com/notebooks/data_table.ipynb>data table notebook</a>'\n",
              "            + ' to learn more about interactive tables.';\n",
              "          element.innerHTML = '';\n",
              "          dataTable['output_type'] = 'display_data';\n",
              "          await google.colab.output.renderOutput(dataTable, element);\n",
              "          const docLink = document.createElement('div');\n",
              "          docLink.innerHTML = docLinkHtml;\n",
              "          element.appendChild(docLink);\n",
              "        }\n",
              "      </script>\n",
              "    </div>\n",
              "  </div>\n",
              "  "
            ],
            "text/plain": [
              "         Passengers  month  year\n",
              "Month                           \n",
              "1949-01         112      1     0\n",
              "1949-02         118      2     0\n",
              "1949-03         132      3     0\n",
              "1949-04         129      4     0\n",
              "1949-05         121      5     0"
            ]
          },
          "metadata": {},
          "execution_count": 13
        }
      ]
    },
    {
      "cell_type": "code",
      "source": [
        "for year_n in df['year'].unique():\n",
        "    print(np.argmax(df.loc[df['year'] == year_n, 'Passengers']))"
      ],
      "metadata": {
        "colab": {
          "base_uri": "https://localhost:8080/"
        },
        "id": "lPG6DEjdZhRH",
        "outputId": "6b46ec1d-8d58-4126-ad12-bd46217c4b39"
      },
      "execution_count": 401,
      "outputs": [
        {
          "output_type": "stream",
          "name": "stdout",
          "text": [
            "6\n",
            "6\n",
            "6\n",
            "7\n",
            "7\n",
            "6\n",
            "6\n",
            "6\n",
            "7\n",
            "7\n",
            "7\n",
            "6\n"
          ]
        }
      ]
    },
    {
      "cell_type": "markdown",
      "source": [
        "из ячейки выше видим, что месяцы с индексами 6 и 7 (что соответствует 7 и 8 месяцу) самые активные по количеству пассажиров\n",
        "\n",
        "добавим дополнительный признак для них"
      ],
      "metadata": {
        "id": "0FSS-EpLuonE"
      }
    },
    {
      "cell_type": "code",
      "source": [
        "df['is_top_month'] = 0\n",
        "df.loc[df['month'] == 7, 'is_top_month'] = 1\n",
        "df.loc[df['month'] == 8, 'is_top_month'] = 1\n",
        "df.head(12)"
      ],
      "metadata": {
        "colab": {
          "base_uri": "https://localhost:8080/",
          "height": 452
        },
        "id": "cxLh9yJjdyad",
        "outputId": "7798497c-0df1-4269-94d3-da40b985f930"
      },
      "execution_count": 14,
      "outputs": [
        {
          "output_type": "execute_result",
          "data": {
            "text/html": [
              "\n",
              "  <div id=\"df-1b8adda9-61ec-42d9-89ef-3c5b6e54eeaa\">\n",
              "    <div class=\"colab-df-container\">\n",
              "      <div>\n",
              "<style scoped>\n",
              "    .dataframe tbody tr th:only-of-type {\n",
              "        vertical-align: middle;\n",
              "    }\n",
              "\n",
              "    .dataframe tbody tr th {\n",
              "        vertical-align: top;\n",
              "    }\n",
              "\n",
              "    .dataframe thead th {\n",
              "        text-align: right;\n",
              "    }\n",
              "</style>\n",
              "<table border=\"1\" class=\"dataframe\">\n",
              "  <thead>\n",
              "    <tr style=\"text-align: right;\">\n",
              "      <th></th>\n",
              "      <th>Passengers</th>\n",
              "      <th>month</th>\n",
              "      <th>year</th>\n",
              "      <th>is_top_month</th>\n",
              "    </tr>\n",
              "    <tr>\n",
              "      <th>Month</th>\n",
              "      <th></th>\n",
              "      <th></th>\n",
              "      <th></th>\n",
              "      <th></th>\n",
              "    </tr>\n",
              "  </thead>\n",
              "  <tbody>\n",
              "    <tr>\n",
              "      <th>1949-01</th>\n",
              "      <td>112</td>\n",
              "      <td>1</td>\n",
              "      <td>0</td>\n",
              "      <td>0</td>\n",
              "    </tr>\n",
              "    <tr>\n",
              "      <th>1949-02</th>\n",
              "      <td>118</td>\n",
              "      <td>2</td>\n",
              "      <td>0</td>\n",
              "      <td>0</td>\n",
              "    </tr>\n",
              "    <tr>\n",
              "      <th>1949-03</th>\n",
              "      <td>132</td>\n",
              "      <td>3</td>\n",
              "      <td>0</td>\n",
              "      <td>0</td>\n",
              "    </tr>\n",
              "    <tr>\n",
              "      <th>1949-04</th>\n",
              "      <td>129</td>\n",
              "      <td>4</td>\n",
              "      <td>0</td>\n",
              "      <td>0</td>\n",
              "    </tr>\n",
              "    <tr>\n",
              "      <th>1949-05</th>\n",
              "      <td>121</td>\n",
              "      <td>5</td>\n",
              "      <td>0</td>\n",
              "      <td>0</td>\n",
              "    </tr>\n",
              "    <tr>\n",
              "      <th>1949-06</th>\n",
              "      <td>135</td>\n",
              "      <td>6</td>\n",
              "      <td>0</td>\n",
              "      <td>0</td>\n",
              "    </tr>\n",
              "    <tr>\n",
              "      <th>1949-07</th>\n",
              "      <td>148</td>\n",
              "      <td>7</td>\n",
              "      <td>0</td>\n",
              "      <td>1</td>\n",
              "    </tr>\n",
              "    <tr>\n",
              "      <th>1949-08</th>\n",
              "      <td>148</td>\n",
              "      <td>8</td>\n",
              "      <td>0</td>\n",
              "      <td>1</td>\n",
              "    </tr>\n",
              "    <tr>\n",
              "      <th>1949-09</th>\n",
              "      <td>136</td>\n",
              "      <td>9</td>\n",
              "      <td>0</td>\n",
              "      <td>0</td>\n",
              "    </tr>\n",
              "    <tr>\n",
              "      <th>1949-10</th>\n",
              "      <td>119</td>\n",
              "      <td>10</td>\n",
              "      <td>0</td>\n",
              "      <td>0</td>\n",
              "    </tr>\n",
              "    <tr>\n",
              "      <th>1949-11</th>\n",
              "      <td>104</td>\n",
              "      <td>11</td>\n",
              "      <td>0</td>\n",
              "      <td>0</td>\n",
              "    </tr>\n",
              "    <tr>\n",
              "      <th>1949-12</th>\n",
              "      <td>118</td>\n",
              "      <td>12</td>\n",
              "      <td>0</td>\n",
              "      <td>0</td>\n",
              "    </tr>\n",
              "  </tbody>\n",
              "</table>\n",
              "</div>\n",
              "      <button class=\"colab-df-convert\" onclick=\"convertToInteractive('df-1b8adda9-61ec-42d9-89ef-3c5b6e54eeaa')\"\n",
              "              title=\"Convert this dataframe to an interactive table.\"\n",
              "              style=\"display:none;\">\n",
              "        \n",
              "  <svg xmlns=\"http://www.w3.org/2000/svg\" height=\"24px\"viewBox=\"0 0 24 24\"\n",
              "       width=\"24px\">\n",
              "    <path d=\"M0 0h24v24H0V0z\" fill=\"none\"/>\n",
              "    <path d=\"M18.56 5.44l.94 2.06.94-2.06 2.06-.94-2.06-.94-.94-2.06-.94 2.06-2.06.94zm-11 1L8.5 8.5l.94-2.06 2.06-.94-2.06-.94L8.5 2.5l-.94 2.06-2.06.94zm10 10l.94 2.06.94-2.06 2.06-.94-2.06-.94-.94-2.06-.94 2.06-2.06.94z\"/><path d=\"M17.41 7.96l-1.37-1.37c-.4-.4-.92-.59-1.43-.59-.52 0-1.04.2-1.43.59L10.3 9.45l-7.72 7.72c-.78.78-.78 2.05 0 2.83L4 21.41c.39.39.9.59 1.41.59.51 0 1.02-.2 1.41-.59l7.78-7.78 2.81-2.81c.8-.78.8-2.07 0-2.86zM5.41 20L4 18.59l7.72-7.72 1.47 1.35L5.41 20z\"/>\n",
              "  </svg>\n",
              "      </button>\n",
              "      \n",
              "  <style>\n",
              "    .colab-df-container {\n",
              "      display:flex;\n",
              "      flex-wrap:wrap;\n",
              "      gap: 12px;\n",
              "    }\n",
              "\n",
              "    .colab-df-convert {\n",
              "      background-color: #E8F0FE;\n",
              "      border: none;\n",
              "      border-radius: 50%;\n",
              "      cursor: pointer;\n",
              "      display: none;\n",
              "      fill: #1967D2;\n",
              "      height: 32px;\n",
              "      padding: 0 0 0 0;\n",
              "      width: 32px;\n",
              "    }\n",
              "\n",
              "    .colab-df-convert:hover {\n",
              "      background-color: #E2EBFA;\n",
              "      box-shadow: 0px 1px 2px rgba(60, 64, 67, 0.3), 0px 1px 3px 1px rgba(60, 64, 67, 0.15);\n",
              "      fill: #174EA6;\n",
              "    }\n",
              "\n",
              "    [theme=dark] .colab-df-convert {\n",
              "      background-color: #3B4455;\n",
              "      fill: #D2E3FC;\n",
              "    }\n",
              "\n",
              "    [theme=dark] .colab-df-convert:hover {\n",
              "      background-color: #434B5C;\n",
              "      box-shadow: 0px 1px 3px 1px rgba(0, 0, 0, 0.15);\n",
              "      filter: drop-shadow(0px 1px 2px rgba(0, 0, 0, 0.3));\n",
              "      fill: #FFFFFF;\n",
              "    }\n",
              "  </style>\n",
              "\n",
              "      <script>\n",
              "        const buttonEl =\n",
              "          document.querySelector('#df-1b8adda9-61ec-42d9-89ef-3c5b6e54eeaa button.colab-df-convert');\n",
              "        buttonEl.style.display =\n",
              "          google.colab.kernel.accessAllowed ? 'block' : 'none';\n",
              "\n",
              "        async function convertToInteractive(key) {\n",
              "          const element = document.querySelector('#df-1b8adda9-61ec-42d9-89ef-3c5b6e54eeaa');\n",
              "          const dataTable =\n",
              "            await google.colab.kernel.invokeFunction('convertToInteractive',\n",
              "                                                     [key], {});\n",
              "          if (!dataTable) return;\n",
              "\n",
              "          const docLinkHtml = 'Like what you see? Visit the ' +\n",
              "            '<a target=\"_blank\" href=https://colab.research.google.com/notebooks/data_table.ipynb>data table notebook</a>'\n",
              "            + ' to learn more about interactive tables.';\n",
              "          element.innerHTML = '';\n",
              "          dataTable['output_type'] = 'display_data';\n",
              "          await google.colab.output.renderOutput(dataTable, element);\n",
              "          const docLink = document.createElement('div');\n",
              "          docLink.innerHTML = docLinkHtml;\n",
              "          element.appendChild(docLink);\n",
              "        }\n",
              "      </script>\n",
              "    </div>\n",
              "  </div>\n",
              "  "
            ],
            "text/plain": [
              "         Passengers  month  year  is_top_month\n",
              "Month                                         \n",
              "1949-01         112      1     0             0\n",
              "1949-02         118      2     0             0\n",
              "1949-03         132      3     0             0\n",
              "1949-04         129      4     0             0\n",
              "1949-05         121      5     0             0\n",
              "1949-06         135      6     0             0\n",
              "1949-07         148      7     0             1\n",
              "1949-08         148      8     0             1\n",
              "1949-09         136      9     0             0\n",
              "1949-10         119     10     0             0\n",
              "1949-11         104     11     0             0\n",
              "1949-12         118     12     0             0"
            ]
          },
          "metadata": {},
          "execution_count": 14
        }
      ]
    },
    {
      "cell_type": "code",
      "execution_count": 15,
      "metadata": {
        "id": "6cwJqFy2_EYL"
      },
      "outputs": [],
      "source": [
        "data = df.copy() # берем все что есть"
      ]
    },
    {
      "cell_type": "code",
      "execution_count": 16,
      "metadata": {
        "colab": {
          "base_uri": "https://localhost:8080/",
          "height": 235
        },
        "id": "WDeu5OJJzWeJ",
        "outputId": "91c7375e-00b8-4539-ea2a-ad2b25a149d5"
      },
      "outputs": [
        {
          "output_type": "execute_result",
          "data": {
            "text/html": [
              "\n",
              "  <div id=\"df-8a6e74bc-689e-4aa4-8f0e-7b6f7955862d\">\n",
              "    <div class=\"colab-df-container\">\n",
              "      <div>\n",
              "<style scoped>\n",
              "    .dataframe tbody tr th:only-of-type {\n",
              "        vertical-align: middle;\n",
              "    }\n",
              "\n",
              "    .dataframe tbody tr th {\n",
              "        vertical-align: top;\n",
              "    }\n",
              "\n",
              "    .dataframe thead th {\n",
              "        text-align: right;\n",
              "    }\n",
              "</style>\n",
              "<table border=\"1\" class=\"dataframe\">\n",
              "  <thead>\n",
              "    <tr style=\"text-align: right;\">\n",
              "      <th></th>\n",
              "      <th>Passengers</th>\n",
              "      <th>month</th>\n",
              "      <th>year</th>\n",
              "      <th>is_top_month</th>\n",
              "    </tr>\n",
              "    <tr>\n",
              "      <th>Month</th>\n",
              "      <th></th>\n",
              "      <th></th>\n",
              "      <th></th>\n",
              "      <th></th>\n",
              "    </tr>\n",
              "  </thead>\n",
              "  <tbody>\n",
              "    <tr>\n",
              "      <th>1949-01</th>\n",
              "      <td>112</td>\n",
              "      <td>1</td>\n",
              "      <td>0</td>\n",
              "      <td>0</td>\n",
              "    </tr>\n",
              "    <tr>\n",
              "      <th>1949-02</th>\n",
              "      <td>118</td>\n",
              "      <td>2</td>\n",
              "      <td>0</td>\n",
              "      <td>0</td>\n",
              "    </tr>\n",
              "    <tr>\n",
              "      <th>1949-03</th>\n",
              "      <td>132</td>\n",
              "      <td>3</td>\n",
              "      <td>0</td>\n",
              "      <td>0</td>\n",
              "    </tr>\n",
              "    <tr>\n",
              "      <th>1949-04</th>\n",
              "      <td>129</td>\n",
              "      <td>4</td>\n",
              "      <td>0</td>\n",
              "      <td>0</td>\n",
              "    </tr>\n",
              "    <tr>\n",
              "      <th>1949-05</th>\n",
              "      <td>121</td>\n",
              "      <td>5</td>\n",
              "      <td>0</td>\n",
              "      <td>0</td>\n",
              "    </tr>\n",
              "  </tbody>\n",
              "</table>\n",
              "</div>\n",
              "      <button class=\"colab-df-convert\" onclick=\"convertToInteractive('df-8a6e74bc-689e-4aa4-8f0e-7b6f7955862d')\"\n",
              "              title=\"Convert this dataframe to an interactive table.\"\n",
              "              style=\"display:none;\">\n",
              "        \n",
              "  <svg xmlns=\"http://www.w3.org/2000/svg\" height=\"24px\"viewBox=\"0 0 24 24\"\n",
              "       width=\"24px\">\n",
              "    <path d=\"M0 0h24v24H0V0z\" fill=\"none\"/>\n",
              "    <path d=\"M18.56 5.44l.94 2.06.94-2.06 2.06-.94-2.06-.94-.94-2.06-.94 2.06-2.06.94zm-11 1L8.5 8.5l.94-2.06 2.06-.94-2.06-.94L8.5 2.5l-.94 2.06-2.06.94zm10 10l.94 2.06.94-2.06 2.06-.94-2.06-.94-.94-2.06-.94 2.06-2.06.94z\"/><path d=\"M17.41 7.96l-1.37-1.37c-.4-.4-.92-.59-1.43-.59-.52 0-1.04.2-1.43.59L10.3 9.45l-7.72 7.72c-.78.78-.78 2.05 0 2.83L4 21.41c.39.39.9.59 1.41.59.51 0 1.02-.2 1.41-.59l7.78-7.78 2.81-2.81c.8-.78.8-2.07 0-2.86zM5.41 20L4 18.59l7.72-7.72 1.47 1.35L5.41 20z\"/>\n",
              "  </svg>\n",
              "      </button>\n",
              "      \n",
              "  <style>\n",
              "    .colab-df-container {\n",
              "      display:flex;\n",
              "      flex-wrap:wrap;\n",
              "      gap: 12px;\n",
              "    }\n",
              "\n",
              "    .colab-df-convert {\n",
              "      background-color: #E8F0FE;\n",
              "      border: none;\n",
              "      border-radius: 50%;\n",
              "      cursor: pointer;\n",
              "      display: none;\n",
              "      fill: #1967D2;\n",
              "      height: 32px;\n",
              "      padding: 0 0 0 0;\n",
              "      width: 32px;\n",
              "    }\n",
              "\n",
              "    .colab-df-convert:hover {\n",
              "      background-color: #E2EBFA;\n",
              "      box-shadow: 0px 1px 2px rgba(60, 64, 67, 0.3), 0px 1px 3px 1px rgba(60, 64, 67, 0.15);\n",
              "      fill: #174EA6;\n",
              "    }\n",
              "\n",
              "    [theme=dark] .colab-df-convert {\n",
              "      background-color: #3B4455;\n",
              "      fill: #D2E3FC;\n",
              "    }\n",
              "\n",
              "    [theme=dark] .colab-df-convert:hover {\n",
              "      background-color: #434B5C;\n",
              "      box-shadow: 0px 1px 3px 1px rgba(0, 0, 0, 0.15);\n",
              "      filter: drop-shadow(0px 1px 2px rgba(0, 0, 0, 0.3));\n",
              "      fill: #FFFFFF;\n",
              "    }\n",
              "  </style>\n",
              "\n",
              "      <script>\n",
              "        const buttonEl =\n",
              "          document.querySelector('#df-8a6e74bc-689e-4aa4-8f0e-7b6f7955862d button.colab-df-convert');\n",
              "        buttonEl.style.display =\n",
              "          google.colab.kernel.accessAllowed ? 'block' : 'none';\n",
              "\n",
              "        async function convertToInteractive(key) {\n",
              "          const element = document.querySelector('#df-8a6e74bc-689e-4aa4-8f0e-7b6f7955862d');\n",
              "          const dataTable =\n",
              "            await google.colab.kernel.invokeFunction('convertToInteractive',\n",
              "                                                     [key], {});\n",
              "          if (!dataTable) return;\n",
              "\n",
              "          const docLinkHtml = 'Like what you see? Visit the ' +\n",
              "            '<a target=\"_blank\" href=https://colab.research.google.com/notebooks/data_table.ipynb>data table notebook</a>'\n",
              "            + ' to learn more about interactive tables.';\n",
              "          element.innerHTML = '';\n",
              "          dataTable['output_type'] = 'display_data';\n",
              "          await google.colab.output.renderOutput(dataTable, element);\n",
              "          const docLink = document.createElement('div');\n",
              "          docLink.innerHTML = docLinkHtml;\n",
              "          element.appendChild(docLink);\n",
              "        }\n",
              "      </script>\n",
              "    </div>\n",
              "  </div>\n",
              "  "
            ],
            "text/plain": [
              "         Passengers  month  year  is_top_month\n",
              "Month                                         \n",
              "1949-01         112      1     0             0\n",
              "1949-02         118      2     0             0\n",
              "1949-03         132      3     0             0\n",
              "1949-04         129      4     0             0\n",
              "1949-05         121      5     0             0"
            ]
          },
          "metadata": {},
          "execution_count": 16
        }
      ],
      "source": [
        "data.head()"
      ]
    },
    {
      "cell_type": "markdown",
      "metadata": {
        "id": "4914V_ogoUfx"
      },
      "source": [
        "Делаем нормализацию"
      ]
    },
    {
      "cell_type": "code",
      "execution_count": 17,
      "metadata": {
        "id": "ArFEd9l2b8vY"
      },
      "outputs": [],
      "source": [
        "def normalize(data, data_mean=0, data_std=0):\n",
        "    if data_std == 0:\n",
        "      data_mean = data.mean(axis=0)\n",
        "      data_std = data.std(axis=0)\n",
        "    return (data - data_mean) / data_std, data_mean,data_std"
      ]
    },
    {
      "cell_type": "markdown",
      "metadata": {
        "id": "iipoiOjBobAe"
      },
      "source": [
        "Можно (и нужно заменять на sklearn StandadScaler) т.к. это нужно дополнительно сохранять для обработки реальных данных , но тут сделаем без привлечения внешних модулей"
      ]
    },
    {
      "cell_type": "code",
      "execution_count": 22,
      "metadata": {
        "id": "msyvvpcKcOSg"
      },
      "outputs": [],
      "source": [
        "train_split = 120\n",
        "_,d_m,d_s =  normalize(data.iloc[:train_split,0].values)\n",
        "data.iloc[:, 0]= (data.iloc[:, 0].values - d_m) / d_s"
      ]
    },
    {
      "cell_type": "code",
      "source": [
        "data.head()"
      ],
      "metadata": {
        "colab": {
          "base_uri": "https://localhost:8080/",
          "height": 235
        },
        "id": "xAo2Nl58Ltgw",
        "outputId": "7de1bdb5-cc84-4e50-f990-455eca028e4d"
      },
      "execution_count": 23,
      "outputs": [
        {
          "output_type": "execute_result",
          "data": {
            "text/html": [
              "\n",
              "  <div id=\"df-9f8d1409-8a96-47c5-98cf-9860adbf8883\">\n",
              "    <div class=\"colab-df-container\">\n",
              "      <div>\n",
              "<style scoped>\n",
              "    .dataframe tbody tr th:only-of-type {\n",
              "        vertical-align: middle;\n",
              "    }\n",
              "\n",
              "    .dataframe tbody tr th {\n",
              "        vertical-align: top;\n",
              "    }\n",
              "\n",
              "    .dataframe thead th {\n",
              "        text-align: right;\n",
              "    }\n",
              "</style>\n",
              "<table border=\"1\" class=\"dataframe\">\n",
              "  <thead>\n",
              "    <tr style=\"text-align: right;\">\n",
              "      <th></th>\n",
              "      <th>Passengers</th>\n",
              "      <th>month</th>\n",
              "      <th>year</th>\n",
              "      <th>is_top_month</th>\n",
              "    </tr>\n",
              "    <tr>\n",
              "      <th>Month</th>\n",
              "      <th></th>\n",
              "      <th></th>\n",
              "      <th></th>\n",
              "      <th></th>\n",
              "    </tr>\n",
              "  </thead>\n",
              "  <tbody>\n",
              "    <tr>\n",
              "      <th>1949-01</th>\n",
              "      <td>-1.416335</td>\n",
              "      <td>1</td>\n",
              "      <td>0</td>\n",
              "      <td>0</td>\n",
              "    </tr>\n",
              "    <tr>\n",
              "      <th>1949-02</th>\n",
              "      <td>-1.352874</td>\n",
              "      <td>2</td>\n",
              "      <td>0</td>\n",
              "      <td>0</td>\n",
              "    </tr>\n",
              "    <tr>\n",
              "      <th>1949-03</th>\n",
              "      <td>-1.204797</td>\n",
              "      <td>3</td>\n",
              "      <td>0</td>\n",
              "      <td>0</td>\n",
              "    </tr>\n",
              "    <tr>\n",
              "      <th>1949-04</th>\n",
              "      <td>-1.236528</td>\n",
              "      <td>4</td>\n",
              "      <td>0</td>\n",
              "      <td>0</td>\n",
              "    </tr>\n",
              "    <tr>\n",
              "      <th>1949-05</th>\n",
              "      <td>-1.321143</td>\n",
              "      <td>5</td>\n",
              "      <td>0</td>\n",
              "      <td>0</td>\n",
              "    </tr>\n",
              "  </tbody>\n",
              "</table>\n",
              "</div>\n",
              "      <button class=\"colab-df-convert\" onclick=\"convertToInteractive('df-9f8d1409-8a96-47c5-98cf-9860adbf8883')\"\n",
              "              title=\"Convert this dataframe to an interactive table.\"\n",
              "              style=\"display:none;\">\n",
              "        \n",
              "  <svg xmlns=\"http://www.w3.org/2000/svg\" height=\"24px\"viewBox=\"0 0 24 24\"\n",
              "       width=\"24px\">\n",
              "    <path d=\"M0 0h24v24H0V0z\" fill=\"none\"/>\n",
              "    <path d=\"M18.56 5.44l.94 2.06.94-2.06 2.06-.94-2.06-.94-.94-2.06-.94 2.06-2.06.94zm-11 1L8.5 8.5l.94-2.06 2.06-.94-2.06-.94L8.5 2.5l-.94 2.06-2.06.94zm10 10l.94 2.06.94-2.06 2.06-.94-2.06-.94-.94-2.06-.94 2.06-2.06.94z\"/><path d=\"M17.41 7.96l-1.37-1.37c-.4-.4-.92-.59-1.43-.59-.52 0-1.04.2-1.43.59L10.3 9.45l-7.72 7.72c-.78.78-.78 2.05 0 2.83L4 21.41c.39.39.9.59 1.41.59.51 0 1.02-.2 1.41-.59l7.78-7.78 2.81-2.81c.8-.78.8-2.07 0-2.86zM5.41 20L4 18.59l7.72-7.72 1.47 1.35L5.41 20z\"/>\n",
              "  </svg>\n",
              "      </button>\n",
              "      \n",
              "  <style>\n",
              "    .colab-df-container {\n",
              "      display:flex;\n",
              "      flex-wrap:wrap;\n",
              "      gap: 12px;\n",
              "    }\n",
              "\n",
              "    .colab-df-convert {\n",
              "      background-color: #E8F0FE;\n",
              "      border: none;\n",
              "      border-radius: 50%;\n",
              "      cursor: pointer;\n",
              "      display: none;\n",
              "      fill: #1967D2;\n",
              "      height: 32px;\n",
              "      padding: 0 0 0 0;\n",
              "      width: 32px;\n",
              "    }\n",
              "\n",
              "    .colab-df-convert:hover {\n",
              "      background-color: #E2EBFA;\n",
              "      box-shadow: 0px 1px 2px rgba(60, 64, 67, 0.3), 0px 1px 3px 1px rgba(60, 64, 67, 0.15);\n",
              "      fill: #174EA6;\n",
              "    }\n",
              "\n",
              "    [theme=dark] .colab-df-convert {\n",
              "      background-color: #3B4455;\n",
              "      fill: #D2E3FC;\n",
              "    }\n",
              "\n",
              "    [theme=dark] .colab-df-convert:hover {\n",
              "      background-color: #434B5C;\n",
              "      box-shadow: 0px 1px 3px 1px rgba(0, 0, 0, 0.15);\n",
              "      filter: drop-shadow(0px 1px 2px rgba(0, 0, 0, 0.3));\n",
              "      fill: #FFFFFF;\n",
              "    }\n",
              "  </style>\n",
              "\n",
              "      <script>\n",
              "        const buttonEl =\n",
              "          document.querySelector('#df-9f8d1409-8a96-47c5-98cf-9860adbf8883 button.colab-df-convert');\n",
              "        buttonEl.style.display =\n",
              "          google.colab.kernel.accessAllowed ? 'block' : 'none';\n",
              "\n",
              "        async function convertToInteractive(key) {\n",
              "          const element = document.querySelector('#df-9f8d1409-8a96-47c5-98cf-9860adbf8883');\n",
              "          const dataTable =\n",
              "            await google.colab.kernel.invokeFunction('convertToInteractive',\n",
              "                                                     [key], {});\n",
              "          if (!dataTable) return;\n",
              "\n",
              "          const docLinkHtml = 'Like what you see? Visit the ' +\n",
              "            '<a target=\"_blank\" href=https://colab.research.google.com/notebooks/data_table.ipynb>data table notebook</a>'\n",
              "            + ' to learn more about interactive tables.';\n",
              "          element.innerHTML = '';\n",
              "          dataTable['output_type'] = 'display_data';\n",
              "          await google.colab.output.renderOutput(dataTable, element);\n",
              "          const docLink = document.createElement('div');\n",
              "          docLink.innerHTML = docLinkHtml;\n",
              "          element.appendChild(docLink);\n",
              "        }\n",
              "      </script>\n",
              "    </div>\n",
              "  </div>\n",
              "  "
            ],
            "text/plain": [
              "         Passengers  month  year  is_top_month\n",
              "Month                                         \n",
              "1949-01   -1.416335      1     0             0\n",
              "1949-02   -1.352874      2     0             0\n",
              "1949-03   -1.204797      3     0             0\n",
              "1949-04   -1.236528      4     0             0\n",
              "1949-05   -1.321143      5     0             0"
            ]
          },
          "metadata": {},
          "execution_count": 23
        }
      ]
    },
    {
      "cell_type": "markdown",
      "metadata": {
        "id": "9P9FRGLBox8U"
      },
      "source": [
        "Создаем данные для обучения"
      ]
    },
    {
      "cell_type": "code",
      "execution_count": 25,
      "metadata": {
        "id": "PA5Rbu7iZqw5"
      },
      "outputs": [],
      "source": [
        "# список признаков, по которым будем учить\n",
        "channelIndexes = [0,1,2,3]\n",
        "\n",
        "# длина теста\n",
        "valLen = 24\n",
        "# длина истории для работы\n",
        "xLen = 3\n",
        "# отступ тестов от тренировок\n",
        "bias = 9\n",
        "\n",
        "# делим\n",
        "train_data = data.iloc[0 : train_split ,channelIndexes]\n",
        "val_data = data.iloc[train_split+bias:,channelIndexes]\n",
        "\n"
      ]
    },
    {
      "cell_type": "code",
      "execution_count": 26,
      "metadata": {
        "colab": {
          "base_uri": "https://localhost:8080/",
          "height": 173
        },
        "id": "eXgegTh9bb_m",
        "outputId": "96cb81eb-6077-4e4f-8c61-6399bd7b3713"
      },
      "outputs": [
        {
          "output_type": "execute_result",
          "data": {
            "text/html": [
              "\n",
              "  <div id=\"df-60b77e32-a0ba-4d2b-b174-7216fa0d661e\">\n",
              "    <div class=\"colab-df-container\">\n",
              "      <div>\n",
              "<style scoped>\n",
              "    .dataframe tbody tr th:only-of-type {\n",
              "        vertical-align: middle;\n",
              "    }\n",
              "\n",
              "    .dataframe tbody tr th {\n",
              "        vertical-align: top;\n",
              "    }\n",
              "\n",
              "    .dataframe thead th {\n",
              "        text-align: right;\n",
              "    }\n",
              "</style>\n",
              "<table border=\"1\" class=\"dataframe\">\n",
              "  <thead>\n",
              "    <tr style=\"text-align: right;\">\n",
              "      <th></th>\n",
              "      <th>Passengers</th>\n",
              "      <th>month</th>\n",
              "      <th>year</th>\n",
              "      <th>is_top_month</th>\n",
              "    </tr>\n",
              "    <tr>\n",
              "      <th>Month</th>\n",
              "      <th></th>\n",
              "      <th></th>\n",
              "      <th></th>\n",
              "      <th></th>\n",
              "    </tr>\n",
              "  </thead>\n",
              "  <tbody>\n",
              "    <tr>\n",
              "      <th>1949-01</th>\n",
              "      <td>-1.416335</td>\n",
              "      <td>1</td>\n",
              "      <td>0</td>\n",
              "      <td>0</td>\n",
              "    </tr>\n",
              "    <tr>\n",
              "      <th>1949-02</th>\n",
              "      <td>-1.352874</td>\n",
              "      <td>2</td>\n",
              "      <td>0</td>\n",
              "      <td>0</td>\n",
              "    </tr>\n",
              "    <tr>\n",
              "      <th>1949-03</th>\n",
              "      <td>-1.204797</td>\n",
              "      <td>3</td>\n",
              "      <td>0</td>\n",
              "      <td>0</td>\n",
              "    </tr>\n",
              "  </tbody>\n",
              "</table>\n",
              "</div>\n",
              "      <button class=\"colab-df-convert\" onclick=\"convertToInteractive('df-60b77e32-a0ba-4d2b-b174-7216fa0d661e')\"\n",
              "              title=\"Convert this dataframe to an interactive table.\"\n",
              "              style=\"display:none;\">\n",
              "        \n",
              "  <svg xmlns=\"http://www.w3.org/2000/svg\" height=\"24px\"viewBox=\"0 0 24 24\"\n",
              "       width=\"24px\">\n",
              "    <path d=\"M0 0h24v24H0V0z\" fill=\"none\"/>\n",
              "    <path d=\"M18.56 5.44l.94 2.06.94-2.06 2.06-.94-2.06-.94-.94-2.06-.94 2.06-2.06.94zm-11 1L8.5 8.5l.94-2.06 2.06-.94-2.06-.94L8.5 2.5l-.94 2.06-2.06.94zm10 10l.94 2.06.94-2.06 2.06-.94-2.06-.94-.94-2.06-.94 2.06-2.06.94z\"/><path d=\"M17.41 7.96l-1.37-1.37c-.4-.4-.92-.59-1.43-.59-.52 0-1.04.2-1.43.59L10.3 9.45l-7.72 7.72c-.78.78-.78 2.05 0 2.83L4 21.41c.39.39.9.59 1.41.59.51 0 1.02-.2 1.41-.59l7.78-7.78 2.81-2.81c.8-.78.8-2.07 0-2.86zM5.41 20L4 18.59l7.72-7.72 1.47 1.35L5.41 20z\"/>\n",
              "  </svg>\n",
              "      </button>\n",
              "      \n",
              "  <style>\n",
              "    .colab-df-container {\n",
              "      display:flex;\n",
              "      flex-wrap:wrap;\n",
              "      gap: 12px;\n",
              "    }\n",
              "\n",
              "    .colab-df-convert {\n",
              "      background-color: #E8F0FE;\n",
              "      border: none;\n",
              "      border-radius: 50%;\n",
              "      cursor: pointer;\n",
              "      display: none;\n",
              "      fill: #1967D2;\n",
              "      height: 32px;\n",
              "      padding: 0 0 0 0;\n",
              "      width: 32px;\n",
              "    }\n",
              "\n",
              "    .colab-df-convert:hover {\n",
              "      background-color: #E2EBFA;\n",
              "      box-shadow: 0px 1px 2px rgba(60, 64, 67, 0.3), 0px 1px 3px 1px rgba(60, 64, 67, 0.15);\n",
              "      fill: #174EA6;\n",
              "    }\n",
              "\n",
              "    [theme=dark] .colab-df-convert {\n",
              "      background-color: #3B4455;\n",
              "      fill: #D2E3FC;\n",
              "    }\n",
              "\n",
              "    [theme=dark] .colab-df-convert:hover {\n",
              "      background-color: #434B5C;\n",
              "      box-shadow: 0px 1px 3px 1px rgba(0, 0, 0, 0.15);\n",
              "      filter: drop-shadow(0px 1px 2px rgba(0, 0, 0, 0.3));\n",
              "      fill: #FFFFFF;\n",
              "    }\n",
              "  </style>\n",
              "\n",
              "      <script>\n",
              "        const buttonEl =\n",
              "          document.querySelector('#df-60b77e32-a0ba-4d2b-b174-7216fa0d661e button.colab-df-convert');\n",
              "        buttonEl.style.display =\n",
              "          google.colab.kernel.accessAllowed ? 'block' : 'none';\n",
              "\n",
              "        async function convertToInteractive(key) {\n",
              "          const element = document.querySelector('#df-60b77e32-a0ba-4d2b-b174-7216fa0d661e');\n",
              "          const dataTable =\n",
              "            await google.colab.kernel.invokeFunction('convertToInteractive',\n",
              "                                                     [key], {});\n",
              "          if (!dataTable) return;\n",
              "\n",
              "          const docLinkHtml = 'Like what you see? Visit the ' +\n",
              "            '<a target=\"_blank\" href=https://colab.research.google.com/notebooks/data_table.ipynb>data table notebook</a>'\n",
              "            + ' to learn more about interactive tables.';\n",
              "          element.innerHTML = '';\n",
              "          dataTable['output_type'] = 'display_data';\n",
              "          await google.colab.output.renderOutput(dataTable, element);\n",
              "          const docLink = document.createElement('div');\n",
              "          docLink.innerHTML = docLinkHtml;\n",
              "          element.appendChild(docLink);\n",
              "        }\n",
              "      </script>\n",
              "    </div>\n",
              "  </div>\n",
              "  "
            ],
            "text/plain": [
              "         Passengers  month  year  is_top_month\n",
              "Month                                         \n",
              "1949-01   -1.416335      1     0             0\n",
              "1949-02   -1.352874      2     0             0\n",
              "1949-03   -1.204797      3     0             0"
            ]
          },
          "metadata": {},
          "execution_count": 26
        }
      ],
      "source": [
        "train_data.head(3)"
      ]
    },
    {
      "cell_type": "markdown",
      "metadata": {
        "id": "v-SA7Q5ApUBq"
      },
      "source": [
        "Формируем параметры для генерации выборки"
      ]
    },
    {
      "cell_type": "code",
      "execution_count": 27,
      "metadata": {
        "id": "aOvy_z69apsr"
      },
      "outputs": [],
      "source": [
        "# шаг по данным для построения обучающих примеров\n",
        "step = 1\n",
        "\n",
        "# длина прошлого \n",
        "past = xLen\n",
        "p = past\n",
        "# горизонт предсказания\n",
        "future = 1\n",
        "h=future\n",
        "\n",
        "# параметры модели для обучения\n",
        "learning_rate = 0.001\n",
        "batch_size =24\n",
        "epochs = 10\n"
      ]
    },
    {
      "cell_type": "markdown",
      "metadata": {
        "id": "iahymtOkqZwr"
      },
      "source": [
        "Выделяем части на обучение и проверку"
      ]
    },
    {
      "cell_type": "code",
      "execution_count": 28,
      "metadata": {
        "id": "25s4AHlvYD3g"
      },
      "outputs": [],
      "source": [
        "Chanel_numb = len(channelIndexes)\n",
        "\n",
        "start = xLen + future\n",
        "end = start + train_split-1\n",
        "\n",
        "xTrain_df = train_data.iloc[:-future-xLen+1,:] # сдвиг по времени для предсказания (закончить чуть раньше)\n",
        "xTrain = xTrain_df[[train_data.columns[i] for i in range(Chanel_numb)]].values\n",
        "yTrain = train_data.iloc[future+xLen-1:,0].values  # сдвиг по времени для предсказания (начать чуть позднее)\n",
        "\n",
        "sequence_length = int(xLen / step)\n",
        "\n",
        "\n",
        "x_end = len(val_data) - xLen - future \n",
        "\n",
        "label_start = len(train_data)+bias+xLen + future +1\n",
        "\n",
        "xVal_df = val_data.iloc[:-future-xLen+1,:] # сдвиг по времени для предсказания (закончить чуть раньше)\n",
        "xVal = xVal_df[[val_data.columns[i] for i in range(Chanel_numb)]].values\n",
        "yVal = val_data.iloc[future+xLen-1:,0].values  # сдвиг по времени для предсказания (начать чуть позднее)\n",
        "\n",
        "\n"
      ]
    },
    {
      "cell_type": "code",
      "execution_count": 29,
      "metadata": {
        "colab": {
          "base_uri": "https://localhost:8080/"
        },
        "id": "ALCr3lKPc3CR",
        "outputId": "24a5759f-8e98-4a06-da8b-a0710ff9a34c"
      },
      "outputs": [
        {
          "output_type": "stream",
          "name": "stdout",
          "text": [
            "(117, 4)\n",
            "(117,)\n",
            "(12, 4)\n",
            "(12,)\n"
          ]
        }
      ],
      "source": [
        "print(xTrain.shape)\n",
        "\n",
        "print(yTrain.shape)\n",
        "\n",
        "\n",
        "print(xVal.shape)\n",
        "\n",
        "print(yVal.shape)"
      ]
    },
    {
      "cell_type": "markdown",
      "metadata": {
        "id": "nmNpYUg9qfEb"
      },
      "source": [
        "Посмотрим на них"
      ]
    },
    {
      "cell_type": "code",
      "execution_count": 30,
      "metadata": {
        "colab": {
          "base_uri": "https://localhost:8080/",
          "height": 350
        },
        "id": "8KQIT2AfJ87P",
        "outputId": "e8a07385-39b2-413a-b2c6-0af0c53b8ba2"
      },
      "outputs": [
        {
          "output_type": "display_data",
          "data": {
            "image/png": "[encoded data removed]",
            "text/plain": [
              "<Figure size 720x360 with 1 Axes>"
            ]
          },
          "metadata": {
            "needs_background": "light"
          }
        }
      ],
      "source": [
        "plt.figure(figsize=(10,5))\n",
        "plt.plot(data.index[xLen:yTrain.shape[0]+xLen],yTrain[:])\n",
        "plt.plot(data.index[yTrain.shape[0]+bias+future+2*xLen-1:],yVal[:])\n",
        "plt.grid('on')\n",
        "plt.xlabel('t, дни')\n",
        "plt.ylabel('$')\n",
        "#plt.title('стоимость BRENT в 2010-2018')\n",
        "plt.title('PJME')\n",
        "plt.show()"
      ]
    },
    {
      "cell_type": "markdown",
      "metadata": {
        "id": "WOZwUs8Vqh9r"
      },
      "source": [
        "Используем механизм формирования пакетов для обучения"
      ]
    },
    {
      "cell_type": "code",
      "execution_count": 31,
      "metadata": {
        "id": "VhuQwds5dJh7"
      },
      "outputs": [],
      "source": [
        "dataset_train = keras.preprocessing.timeseries_dataset_from_array(\n",
        "    xTrain,\n",
        "    yTrain,\n",
        "    sequence_length=xLen,\n",
        "    sampling_rate=1,\n",
        "    batch_size=batch_size,\n",
        ")\n",
        "dataset_val = keras.preprocessing.timeseries_dataset_from_array(\n",
        "    xVal,\n",
        "    yVal,\n",
        "    sequence_length=xLen,\n",
        "    sampling_rate=1,\n",
        "    batch_size=batch_size,\n",
        ")\n"
      ]
    },
    {
      "cell_type": "code",
      "execution_count": 32,
      "metadata": {
        "colab": {
          "base_uri": "https://localhost:8080/"
        },
        "id": "BZCByXmRgpVQ",
        "outputId": "f46dfbcb-9a6e-48a2-a111-2c05f1c77e99"
      },
      "outputs": [
        {
          "output_type": "stream",
          "name": "stdout",
          "text": [
            "Input shape: (10, 3, 4)\n",
            "Target shape: (10,)\n"
          ]
        }
      ],
      "source": [
        "for batch in dataset_val.take(2):\n",
        "    inputs, targets = batch\n",
        "\n",
        "print(\"Input shape:\", inputs.numpy().shape)\n",
        "print(\"Target shape:\", targets.numpy().shape)"
      ]
    },
    {
      "cell_type": "code",
      "source": [
        "inputs[1,0,:]"
      ],
      "metadata": {
        "colab": {
          "base_uri": "https://localhost:8080/"
        },
        "id": "zh0rmtN6MphA",
        "outputId": "c906f11a-a71a-40f2-aaa1-c66dcd92571b"
      },
      "execution_count": 33,
      "outputs": [
        {
          "output_type": "execute_result",
          "data": {
            "text/plain": [
              "<tf.Tensor: shape=(4,), dtype=float64, numpy=array([ 1.22788986, 11.        , 10.        ,  0.        ])>"
            ]
          },
          "metadata": {},
          "execution_count": 33
        }
      ]
    },
    {
      "cell_type": "code",
      "execution_count": 34,
      "metadata": {
        "colab": {
          "base_uri": "https://localhost:8080/"
        },
        "id": "DDFzVhAWLmEH",
        "outputId": "75d673da-044f-421b-ff14-fa660dc9abfa"
      },
      "outputs": [
        {
          "output_type": "execute_result",
          "data": {
            "text/plain": [
              "<tf.Tensor: shape=(3,), dtype=float64, numpy=array([1.22788986, 1.68269653, 1.80961932])>"
            ]
          },
          "metadata": {},
          "execution_count": 34
        }
      ],
      "source": [
        "inputs[1,:,0]"
      ]
    },
    {
      "cell_type": "code",
      "execution_count": 35,
      "metadata": {
        "colab": {
          "base_uri": "https://localhost:8080/"
        },
        "id": "xidtgm-ILpy8",
        "outputId": "fbceb477-5f24-4be8-e266-bedc01c20f4b"
      },
      "outputs": [
        {
          "output_type": "execute_result",
          "data": {
            "text/plain": [
              "<tf.Tensor: shape=(), dtype=float64, numpy=1.809619319330048>"
            ]
          },
          "metadata": {},
          "execution_count": 35
        }
      ],
      "source": [
        "targets[0]"
      ]
    },
    {
      "cell_type": "code",
      "execution_count": 36,
      "metadata": {
        "colab": {
          "base_uri": "https://localhost:8080/"
        },
        "id": "4vh-kNW-K5RQ",
        "outputId": "dce43171-2d49-46c2-9803-523feaaadcd8"
      },
      "outputs": [
        {
          "output_type": "stream",
          "name": "stdout",
          "text": [
            "Input shape: (24, 3, 4)\n",
            "Target shape: (24,)\n"
          ]
        }
      ],
      "source": [
        "for batch in dataset_train.take(2):\n",
        "    inputs, targets = batch\n",
        "\n",
        "print(\"Input shape:\", inputs.numpy().shape)\n",
        "print(\"Target shape:\", targets.numpy().shape)"
      ]
    },
    {
      "cell_type": "code",
      "execution_count": 37,
      "metadata": {
        "colab": {
          "base_uri": "https://localhost:8080/"
        },
        "id": "9xiFCpgxqsES",
        "outputId": "99ab529a-ccf7-48cf-aefa-e93751e3ad03"
      },
      "outputs": [
        {
          "output_type": "execute_result",
          "data": {
            "text/plain": [
              "<tf.Tensor: shape=(3,), dtype=float64, numpy=array([-1.06729727, -1.01441278, -0.7182596 ])>"
            ]
          },
          "metadata": {},
          "execution_count": 37
        }
      ],
      "source": [
        "inputs[0,:,0]"
      ]
    },
    {
      "cell_type": "code",
      "execution_count": 38,
      "metadata": {
        "colab": {
          "base_uri": "https://localhost:8080/"
        },
        "id": "NPeJ6pOirP1X",
        "outputId": "912aaa50-5649-4593-9399-52d77a495c3c"
      },
      "outputs": [
        {
          "output_type": "execute_result",
          "data": {
            "text/plain": [
              "<tf.Tensor: shape=(), dtype=float64, numpy=-0.8769130879165481>"
            ]
          },
          "metadata": {},
          "execution_count": 38
        }
      ],
      "source": [
        "targets[0]"
      ]
    },
    {
      "cell_type": "code",
      "execution_count": 39,
      "metadata": {
        "id": "IVraCCPyS-bZ"
      },
      "outputs": [],
      "source": [
        "logdir = os.path.join(\"logs2\", datetime.datetime.now().strftime(\"%Y%m%d-%H%M%S\"))\n",
        "tensorboard_callback = TensorBoard( logdir, histogram_freq=1)"
      ]
    },
    {
      "cell_type": "markdown",
      "metadata": {
        "id": "qE_vmenqkqCp"
      },
      "source": [
        "**сеть:  LSTM слои+Conv1D +Dense слой.**"
      ]
    },
    {
      "cell_type": "code",
      "execution_count": 43,
      "metadata": {
        "colab": {
          "base_uri": "https://localhost:8080/",
          "height": 553
        },
        "id": "JHXhRpxJg5Fq",
        "outputId": "2e552d63-5993-4204-93da-c228b225cd71"
      },
      "outputs": [
        {
          "output_type": "stream",
          "name": "stdout",
          "text": [
            "Epoch 1/10\n",
            "5/5 [==============================] - 6s 294ms/step - loss: 1.2373 - mae: 0.9163 - val_loss: 7.8148 - val_mae: 2.6916\n",
            "Epoch 2/10\n",
            "5/5 [==============================] - 0s 47ms/step - loss: 0.7374 - mae: 0.6839 - val_loss: 5.5824 - val_mae: 2.2444\n",
            "Epoch 3/10\n",
            "5/5 [==============================] - 0s 51ms/step - loss: 0.4959 - mae: 0.5733 - val_loss: 3.4882 - val_mae: 1.7251\n",
            "Epoch 4/10\n",
            "5/5 [==============================] - 0s 52ms/step - loss: 0.3499 - mae: 0.4896 - val_loss: 1.7961 - val_mae: 1.1565\n",
            "Epoch 5/10\n",
            "5/5 [==============================] - 0s 54ms/step - loss: 0.2599 - mae: 0.4264 - val_loss: 0.9103 - val_mae: 0.7220\n",
            "Epoch 6/10\n",
            "5/5 [==============================] - 0s 51ms/step - loss: 0.1897 - mae: 0.3360 - val_loss: 0.7189 - val_mae: 0.6093\n",
            "Epoch 7/10\n",
            "5/5 [==============================] - 0s 49ms/step - loss: 0.2155 - mae: 0.4019 - val_loss: 0.8228 - val_mae: 0.6768\n",
            "Epoch 8/10\n",
            "5/5 [==============================] - 0s 45ms/step - loss: 0.1576 - mae: 0.3211 - val_loss: 0.9477 - val_mae: 0.7398\n"
          ]
        },
        {
          "output_type": "display_data",
          "data": {
            "image/png": "[encoded data removed]",
            "text/plain": [
              "<Figure size 432x288 with 1 Axes>"
            ]
          },
          "metadata": {
            "needs_background": "light"
          }
        }
      ],
      "source": [
        "callbaсk = EarlyStopping(monitor='val_mae', patience=2)\n",
        "\n",
        "model = Sequential()\n",
        "\n",
        "model.add(LSTM(64, input_shape = (inputs.shape[1], inputs.shape[2]), return_sequences=\"True\"))\n",
        "model.add(LSTM(64, return_sequences=\"True\")) # <None, 3,32>\n",
        "model.add(Conv1D(64, 3, activation=\"linear\")) #(None,3,64)\n",
        "#model.add(Conv1D(64, 1, activation=\"linear\"))\n",
        "model.add(Flatten())                          # (None, 3*64)\n",
        "model.add(Dense(3, activation=\"linear\"))      # (None,3)\n",
        "\n",
        "model.add(Dense(1, activation=\"linear\"))\n",
        "\n",
        "model.compile(loss=\"mse\", optimizer=\"adam\", metrics=['mae'])\n",
        "\n",
        "history = model.fit(\n",
        "    dataset_train,\n",
        "    epochs=epochs,\n",
        "    validation_data=dataset_val,\n",
        "    callbacks=[callbaсk, tensorboard_callback])\n",
        "\n",
        "\n",
        "plt.plot(history.history['mae'][1:], \n",
        "         label='Средняя абсолютная ошибка на обучающем наборе')\n",
        "plt.plot(history.history['val_mae'][1:], \n",
        "         label='Средняя абсолютная ошибка на проверочном наборе')\n",
        "plt.ylabel('Средняя ошибка')\n",
        "plt.legend()\n",
        "plt.show()"
      ]
    },
    {
      "cell_type": "code",
      "execution_count": 44,
      "metadata": {
        "id": "cFOlgPE_SEli"
      },
      "outputs": [],
      "source": [
        "hist_val = history.history['val_mae']\n",
        "hist_train = history.history['mae']"
      ]
    },
    {
      "cell_type": "code",
      "execution_count": 48,
      "metadata": {
        "colab": {
          "base_uri": "https://localhost:8080/",
          "height": 481
        },
        "id": "QGZPB4DySC-g",
        "outputId": "29441603-525b-41ca-e1f0-10c6ba380e3b"
      },
      "outputs": [
        {
          "output_type": "stream",
          "name": "stdout",
          "text": [
            "Epoch 1/10\n",
            "5/5 [==============================] - 0s 53ms/step - loss: 0.1406 - mae: 0.2777 - val_loss: 1.0318 - val_mae: 0.7863\n",
            "Epoch 2/10\n",
            "5/5 [==============================] - 0s 52ms/step - loss: 0.1325 - mae: 0.2699 - val_loss: 0.9633 - val_mae: 0.7499\n",
            "Epoch 3/10\n",
            "5/5 [==============================] - 0s 51ms/step - loss: 0.1135 - mae: 0.2563 - val_loss: 0.7310 - val_mae: 0.6002\n",
            "Epoch 4/10\n",
            "5/5 [==============================] - 0s 56ms/step - loss: 0.1064 - mae: 0.2596 - val_loss: 0.5606 - val_mae: 0.5154\n",
            "Epoch 5/10\n",
            "5/5 [==============================] - 0s 54ms/step - loss: 0.1012 - mae: 0.2561 - val_loss: 0.5554 - val_mae: 0.5163\n",
            "Epoch 6/10\n",
            "5/5 [==============================] - 0s 58ms/step - loss: 0.0932 - mae: 0.2383 - val_loss: 0.5787 - val_mae: 0.5292\n"
          ]
        },
        {
          "output_type": "display_data",
          "data": {
            "image/png": "[encoded data removed]",
            "text/plain": [
              "<Figure size 432x288 with 1 Axes>"
            ]
          },
          "metadata": {
            "needs_background": "light"
          }
        }
      ],
      "source": [
        "history = model.fit(\n",
        "    dataset_train,\n",
        "    epochs=epochs,\n",
        "    validation_data=dataset_val,\n",
        "    callbacks=[callbaсk, tensorboard_callback])\n",
        "\n",
        "hist_val.extend(history.history['val_mae'][:])\n",
        "hist_train.extend(history.history['mae'][:])\n",
        "\n",
        "plt.plot(hist_train[1:], \n",
        "         label='Средняя абсолютная ошибка на обучающем наборе')\n",
        "plt.plot(hist_val[1:], \n",
        "         label='Средняя абсолютная ошибка на проверочном наборе')\n",
        "plt.ylabel('Средняя ошибка')\n",
        "plt.legend()\n",
        "plt.show()"
      ]
    },
    {
      "cell_type": "code",
      "execution_count": 49,
      "metadata": {
        "id": "qpZiYi_pUmez"
      },
      "outputs": [],
      "source": [
        "# %tensorboard --logdir logs2"
      ]
    },
    {
      "cell_type": "code",
      "execution_count": 50,
      "metadata": {
        "id": "wuKT4O2WjZiQ"
      },
      "outputs": [],
      "source": [
        "pred = model.predict(dataset_train).flatten()\n",
        "predVal = model.predict(dataset_val).flatten()"
      ]
    },
    {
      "cell_type": "markdown",
      "metadata": {
        "id": "IUpfiwfKGVhj"
      },
      "source": [
        "Валидация:"
      ]
    },
    {
      "cell_type": "code",
      "execution_count": 51,
      "metadata": {
        "colab": {
          "base_uri": "https://localhost:8080/",
          "height": 334
        },
        "id": "pdX1EKOo0VMU",
        "outputId": "7444a3d1-9d1e-46f0-92ea-4f97a6237445"
      },
      "outputs": [
        {
          "output_type": "display_data",
          "data": {
            "image/png": "[encoded data removed]",
            "text/plain": [
              "<Figure size 720x360 with 1 Axes>"
            ]
          },
          "metadata": {
            "needs_background": "light"
          }
        }
      ],
      "source": [
        "start = 0\n",
        "step = 120\n",
        "plt.figure(figsize=(10,5))\n",
        "plt.grid('on')\n",
        "plt.plot(predVal[start:start+step], \n",
        "         label='Прогноз')\n",
        "plt.plot(yVal.flatten()[start:start+step], \n",
        "         label='Базовый ряд')\n",
        "plt.xlabel('Время')\n",
        "plt.ylabel('Значение ')\n",
        "\n",
        "plt.legend()\n",
        "plt.show()"
      ]
    },
    {
      "cell_type": "markdown",
      "metadata": {
        "id": "t5_g11N-GZdD"
      },
      "source": [
        "Тренировочные даннные:"
      ]
    },
    {
      "cell_type": "code",
      "execution_count": 52,
      "metadata": {
        "colab": {
          "base_uri": "https://localhost:8080/",
          "height": 334
        },
        "id": "O0EVYFpTluiY",
        "outputId": "c58a6886-c0dd-4e0a-ce00-e026c3bd2903"
      },
      "outputs": [
        {
          "output_type": "display_data",
          "data": {
            "image/png": "[encoded data removed]",
            "text/plain": [
              "<Figure size 720x360 with 1 Axes>"
            ]
          },
          "metadata": {
            "needs_background": "light"
          }
        }
      ],
      "source": [
        "start = 0\n",
        "\n",
        "plt.figure(figsize=(10,5))\n",
        "plt.grid('on')\n",
        "plt.plot(pred[start:train_split], \n",
        "         label='Прогноз')\n",
        "plt.plot(yTrain.flatten()[start:train_split], \n",
        "         label='Базовый ряд')\n",
        "plt.xlabel('Время')\n",
        "plt.ylabel('Значение Close')\n",
        "plt.legend()\n",
        "plt.show()"
      ]
    },
    {
      "cell_type": "markdown",
      "metadata": {
        "id": "U3gW5SKunYaC"
      },
      "source": [
        "Проверяем качество модели:\n",
        "- оценим по лаговой корреляции рядов a, b;\n",
        "- если наибольшая корреляция с лагом 0, то отлично;\n",
        "- есди максимум корреляциии на лаге , равном глубине прогноза, то тривиальное предсказание (завтра, как сегодня).\n"
      ]
    },
    {
      "cell_type": "code",
      "execution_count": 53,
      "metadata": {
        "id": "0fB0f5GncVkc"
      },
      "outputs": [],
      "source": [
        "def correlate(a, b):\n",
        "  ma = a.mean()\n",
        "  mb = b.mean()\n",
        "  mab = (a*b).mean()\n",
        "  sa = a.std()\n",
        "  sb = b.std()\n",
        "  \n",
        "  val = 0\n",
        "  if ((sa>0) & (sb>0)):\n",
        "    val = (mab-ma*mb)/(sa*sb)\n",
        "  return val"
      ]
    },
    {
      "cell_type": "code",
      "execution_count": 56,
      "metadata": {
        "colab": {
          "base_uri": "https://localhost:8080/",
          "height": 369
        },
        "id": "HbW-tefen8Qz",
        "outputId": "1eb533b4-3d27-429f-c057-32ac74f8e95d"
      },
      "outputs": [
        {
          "output_type": "display_data",
          "data": {
            "image/png": "[encoded data removed]",
            "text/plain": [
              "<Figure size 432x288 with 1 Axes>"
            ]
          },
          "metadata": {
            "needs_background": "light"
          }
        },
        {
          "output_type": "execute_result",
          "data": {
            "text/plain": [
              "[0.9656331474701452,\n",
              " 0.8977290768537048,\n",
              " 0.921800465667573,\n",
              " 0.8760775708770459,\n",
              " 0.6561485801246962]"
            ]
          },
          "metadata": {},
          "execution_count": 56
        }
      ],
      "source": [
        "corr = []\n",
        "start = 0 # начальная точка для проверки корреляций рядов\n",
        "step = 9 # число точек для проверки корреляций рядов\n",
        "h=0\n",
        "yLen = yVal.shape[0]\n",
        "yValF = yVal[start:start+step].flatten() # ряд истиных значений\n",
        "yPredVal = predVal[start:start+step] # ряд предсказаний \n",
        "# смотрим лаговые корреляции yValF[:-i], yPredVal[i:] для лагов от 0 до 5\n",
        "for i in range(5):\n",
        "  corr.append(correlate(yValF[:-1-i], yPredVal[i:-1]))\n",
        "  \n",
        "plt.plot(corr, \n",
        "         label='Корреляция')\n",
        "plt.xlabel('лаговое расстояние между рядами')\n",
        "plt.ylabel('Значение корреляции')\n",
        "plt.legend()\n",
        "plt.show()\n",
        "\n",
        "corr"
      ]
    },
    {
      "cell_type": "markdown",
      "metadata": {
        "id": "tteRbKLancoq"
      },
      "source": [
        "Можно добавить обучения на другом размере сети"
      ]
    },
    {
      "cell_type": "code",
      "execution_count": 60,
      "metadata": {
        "colab": {
          "base_uri": "https://localhost:8080/",
          "height": 589
        },
        "id": "uZUNXcHBlBAG",
        "outputId": "7cbc25c4-7c54-4a2f-cc74-d828d7602899"
      },
      "outputs": [
        {
          "output_type": "stream",
          "name": "stdout",
          "text": [
            "Epoch 1/100\n",
            "5/5 [==============================] - 3s 156ms/step - loss: 0.9358 - mae: 0.7827 - val_loss: 5.2242 - val_mae: 2.1732\n",
            "Epoch 2/100\n",
            "5/5 [==============================] - 0s 39ms/step - loss: 0.3024 - mae: 0.4148 - val_loss: 2.3185 - val_mae: 1.3665\n",
            "Epoch 3/100\n",
            "5/5 [==============================] - 0s 40ms/step - loss: 0.2752 - mae: 0.4514 - val_loss: 1.0785 - val_mae: 0.8214\n",
            "Epoch 4/100\n",
            "5/5 [==============================] - 0s 39ms/step - loss: 0.2848 - mae: 0.4561 - val_loss: 0.7758 - val_mae: 0.6418\n",
            "Epoch 5/100\n",
            "5/5 [==============================] - 0s 41ms/step - loss: 0.1970 - mae: 0.3324 - val_loss: 0.8246 - val_mae: 0.6958\n",
            "Epoch 6/100\n",
            "5/5 [==============================] - 0s 40ms/step - loss: 0.1771 - mae: 0.3302 - val_loss: 0.9203 - val_mae: 0.7665\n",
            "Epoch 7/100\n",
            "5/5 [==============================] - 0s 37ms/step - loss: 0.1642 - mae: 0.3311 - val_loss: 0.9125 - val_mae: 0.7566\n",
            "Epoch 8/100\n",
            "5/5 [==============================] - 0s 35ms/step - loss: 0.1318 - mae: 0.2864 - val_loss: 0.8774 - val_mae: 0.7210\n",
            "Epoch 9/100\n",
            "5/5 [==============================] - 0s 41ms/step - loss: 0.1211 - mae: 0.2643 - val_loss: 0.9018 - val_mae: 0.7298\n"
          ]
        },
        {
          "output_type": "display_data",
          "data": {
            "image/png": "[encoded data removed]",
            "text/plain": [
              "<Figure size 432x288 with 1 Axes>"
            ]
          },
          "metadata": {
            "needs_background": "light"
          }
        }
      ],
      "source": [
        "callbaсk = EarlyStopping(monitor='val_mae', patience=5)\n",
        "\n",
        "model = Sequential()\n",
        "\n",
        "model.add(LSTM(64, input_shape = (inputs.shape[1], inputs.shape[2]), return_sequences=\"True\"))\n",
        "\n",
        "model.add(Flatten())                          # (None, n_Dense*n_lstm)\n",
        "model.add(Dense(8, activation=\"linear\"))      # (None,n_Dense)\n",
        "\n",
        "model.add(Dense(1, activation=\"linear\"))\n",
        "\n",
        "model.compile(loss=\"mse\", optimizer=\"adam\", metrics=['mae'])\n",
        "\n",
        "history = model.fit(\n",
        "    dataset_train,\n",
        "    epochs=100,\n",
        "    validation_data=dataset_val,\n",
        "    callbacks=[callbaсk, tensorboard_callback])\n",
        "\n",
        "\n",
        "plt.plot(history.history['mae'][1:], \n",
        "         label='Средняя абсолютная ошибка на обучающем наборе')\n",
        "plt.plot(history.history['val_mae'][1:], \n",
        "         label='Средняя абсолютная ошибка на проверочном наборе')\n",
        "plt.ylabel('Средняя ошибка')\n",
        "plt.legend()\n",
        "plt.show()"
      ]
    },
    {
      "cell_type": "code",
      "execution_count": 61,
      "metadata": {
        "id": "iSTt6Gz3ImGL"
      },
      "outputs": [],
      "source": [
        "pred = model.predict(dataset_train).flatten()\n",
        "predVal = model.predict(dataset_val).flatten()"
      ]
    },
    {
      "cell_type": "code",
      "execution_count": 62,
      "metadata": {
        "colab": {
          "base_uri": "https://localhost:8080/",
          "height": 334
        },
        "id": "D-GjBDJjIrOl",
        "outputId": "a695260d-c02d-4d8e-c488-d8c8c29791a3"
      },
      "outputs": [
        {
          "output_type": "display_data",
          "data": {
            "image/png": "[encoded data removed]",
            "text/plain": [
              "<Figure size 720x360 with 1 Axes>"
            ]
          },
          "metadata": {
            "needs_background": "light"
          }
        }
      ],
      "source": [
        "start = 0\n",
        "step = 144\n",
        "plt.figure(figsize=(10,5))\n",
        "plt.grid('on')\n",
        "plt.plot(predVal[start:start+step], \n",
        "         label='Прогноз')\n",
        "plt.plot(yVal.flatten()[start:start+step], \n",
        "         label='Базовый ряд')\n",
        "plt.xlabel('Время')\n",
        "plt.ylabel('Значение ')\n",
        "\n",
        "plt.legend()\n",
        "plt.show()"
      ]
    },
    {
      "cell_type": "markdown",
      "metadata": {
        "id": "3E4aZyo3GzP7"
      },
      "source": [
        "Проверим лаговые корреляции:\n"
      ]
    },
    {
      "cell_type": "code",
      "execution_count": 65,
      "metadata": {
        "colab": {
          "base_uri": "https://localhost:8080/",
          "height": 369
        },
        "id": "C09gyEnoIz5d",
        "outputId": "f57821e2-de72-4720-d8e6-138266546f40"
      },
      "outputs": [
        {
          "output_type": "display_data",
          "data": {
            "image/png": "[encoded data removed]",
            "text/plain": [
              "<Figure size 432x288 with 1 Axes>"
            ]
          },
          "metadata": {
            "needs_background": "light"
          }
        },
        {
          "output_type": "execute_result",
          "data": {
            "text/plain": [
              "[0.9234749351056646,\n",
              " 0.9261573845756009,\n",
              " 0.9027358818126922,\n",
              " 0.8468631908732756,\n",
              " 0.7233487393444868]"
            ]
          },
          "metadata": {},
          "execution_count": 65
        }
      ],
      "source": [
        "corr = []\n",
        "start = 0 # начальная точка для проверки корреляций рядов\n",
        "step = 9 # число точек для проверки корреляций рядов\n",
        "h=0\n",
        "yLen = yVal.shape[0]\n",
        "yValF = yVal[start:start+step].flatten() # ряд истиных значений\n",
        "yPredVal = predVal[start:start+step] # ряд предсказаний \n",
        "# смотрим лаговые корреляции yValF[:-i], yPredVal[i:] для лагов от 0 до 5\n",
        "for i in range(5):\n",
        "  corr.append(correlate(yValF[:-1-i], yPredVal[i:-1]))\n",
        "  \n",
        "plt.plot(corr, \n",
        "         label='Корреляция')\n",
        "plt.xlabel('лаговое расстояние между рядами')\n",
        "plt.ylabel('Значение корреляции')\n",
        "plt.legend()\n",
        "plt.show()\n",
        "\n",
        "corr"
      ]
    },
    {
      "cell_type": "markdown",
      "source": [
        "### Финальная модель"
      ],
      "metadata": {
        "id": "YDBD7eYEzoQ8"
      }
    },
    {
      "cell_type": "code",
      "source": [
        "inputs.shape"
      ],
      "metadata": {
        "colab": {
          "base_uri": "https://localhost:8080/"
        },
        "id": "FHhTfGwWUspa",
        "outputId": "e6feefdd-6392-420b-d642-af5054ef55e7"
      },
      "execution_count": 66,
      "outputs": [
        {
          "output_type": "execute_result",
          "data": {
            "text/plain": [
              "TensorShape([24, 3, 4])"
            ]
          },
          "metadata": {},
          "execution_count": 66
        }
      ]
    },
    {
      "cell_type": "code",
      "source": [
        "callbaсk = EarlyStopping(monitor='val_mae', patience=20)\n",
        "\n",
        "model = Sequential()\n",
        "\n",
        "model.add(LSTM(128, input_shape = (inputs.shape[1], inputs.shape[2]), return_sequences=\"True\"))\n",
        "model.add(Conv1D(64, 3, activation=\"linear\"))\n",
        "#model.add(Conv1D(64, 1, activation=\"linear\"))\n",
        "\n",
        "\n",
        "model.add(Flatten())                            \n",
        "model.add(Dense(8, activation=\"linear\"))\n",
        "\n",
        "model.add(Dense(1, activation=\"linear\"))\n",
        "\n",
        "model.compile(loss=\"mse\", optimizer=\"adam\", metrics=['mae'])\n",
        "\n",
        "history = model.fit(\n",
        "    dataset_train,\n",
        "    epochs=500,\n",
        "    validation_data=dataset_val,\n",
        "    callbacks=[callbaсk, tensorboard_callback])\n",
        "\n",
        "\n",
        "plt.plot(history.history['mae'][1:], \n",
        "         label='Средняя абсолютная ошибка на обучающем наборе')\n",
        "plt.plot(history.history['val_mae'][1:], \n",
        "         label='Средняя абсолютная ошибка на проверочном наборе')\n",
        "plt.ylabel('Средняя ошибка')\n",
        "plt.legend()\n",
        "plt.show()"
      ],
      "metadata": {
        "colab": {
          "base_uri": "https://localhost:8080/",
          "height": 1000
        },
        "id": "DtkhSjMrSW-i",
        "outputId": "c3535b21-fc3a-4f7f-a8c6-ca3aa40f4175"
      },
      "execution_count": 67,
      "outputs": [
        {
          "output_type": "stream",
          "name": "stdout",
          "text": [
            "Epoch 1/500\n",
            "5/5 [==============================] - 3s 180ms/step - loss: 1.3784 - mae: 1.0378 - val_loss: 2.4081 - val_mae: 1.3185\n",
            "Epoch 2/500\n",
            "5/5 [==============================] - 0s 48ms/step - loss: 1.8774 - mae: 1.2678 - val_loss: 0.9469 - val_mae: 0.7063\n",
            "Epoch 3/500\n",
            "5/5 [==============================] - 0s 50ms/step - loss: 0.5531 - mae: 0.6412 - val_loss: 2.1830 - val_mae: 1.3319\n",
            "Epoch 4/500\n",
            "5/5 [==============================] - 0s 54ms/step - loss: 0.4706 - mae: 0.6058 - val_loss: 1.4122 - val_mae: 1.0094\n",
            "Epoch 5/500\n",
            "5/5 [==============================] - 0s 45ms/step - loss: 0.2827 - mae: 0.4449 - val_loss: 0.5076 - val_mae: 0.4886\n",
            "Epoch 6/500\n",
            "5/5 [==============================] - 0s 43ms/step - loss: 0.2715 - mae: 0.4121 - val_loss: 0.5232 - val_mae: 0.4840\n",
            "Epoch 7/500\n",
            "5/5 [==============================] - 0s 51ms/step - loss: 0.1961 - mae: 0.3415 - val_loss: 1.0945 - val_mae: 0.8402\n",
            "Epoch 8/500\n",
            "5/5 [==============================] - 0s 48ms/step - loss: 0.1762 - mae: 0.3036 - val_loss: 1.4828 - val_mae: 1.0459\n",
            "Epoch 9/500\n",
            "5/5 [==============================] - 0s 50ms/step - loss: 0.1464 - mae: 0.2853 - val_loss: 1.0871 - val_mae: 0.8370\n",
            "Epoch 10/500\n",
            "5/5 [==============================] - 0s 47ms/step - loss: 0.1266 - mae: 0.2728 - val_loss: 0.7062 - val_mae: 0.5768\n",
            "Epoch 11/500\n",
            "5/5 [==============================] - 0s 49ms/step - loss: 0.1305 - mae: 0.2781 - val_loss: 0.6566 - val_mae: 0.5522\n",
            "Epoch 12/500\n",
            "5/5 [==============================] - 0s 48ms/step - loss: 0.1137 - mae: 0.2593 - val_loss: 0.7296 - val_mae: 0.6083\n",
            "Epoch 13/500\n",
            "5/5 [==============================] - 0s 48ms/step - loss: 0.1106 - mae: 0.2607 - val_loss: 0.6918 - val_mae: 0.5787\n",
            "Epoch 14/500\n",
            "5/5 [==============================] - 0s 46ms/step - loss: 0.1028 - mae: 0.2523 - val_loss: 0.6163 - val_mae: 0.5503\n",
            "Epoch 15/500\n",
            "5/5 [==============================] - 0s 48ms/step - loss: 0.0986 - mae: 0.2419 - val_loss: 0.6165 - val_mae: 0.5525\n",
            "Epoch 16/500\n",
            "5/5 [==============================] - 0s 44ms/step - loss: 0.0928 - mae: 0.2297 - val_loss: 0.6154 - val_mae: 0.5515\n",
            "Epoch 17/500\n",
            "5/5 [==============================] - 0s 43ms/step - loss: 0.0886 - mae: 0.2286 - val_loss: 0.5447 - val_mae: 0.5222\n",
            "Epoch 18/500\n",
            "5/5 [==============================] - 0s 53ms/step - loss: 0.0856 - mae: 0.2272 - val_loss: 0.4888 - val_mae: 0.4959\n",
            "Epoch 19/500\n",
            "5/5 [==============================] - 0s 47ms/step - loss: 0.0821 - mae: 0.2200 - val_loss: 0.4804 - val_mae: 0.4914\n",
            "Epoch 20/500\n",
            "5/5 [==============================] - 0s 50ms/step - loss: 0.0789 - mae: 0.2140 - val_loss: 0.4658 - val_mae: 0.4840\n",
            "Epoch 21/500\n",
            "5/5 [==============================] - 0s 51ms/step - loss: 0.0758 - mae: 0.2098 - val_loss: 0.4327 - val_mae: 0.4663\n",
            "Epoch 22/500\n",
            "5/5 [==============================] - 0s 50ms/step - loss: 0.0727 - mae: 0.2047 - val_loss: 0.4095 - val_mae: 0.4526\n",
            "Epoch 23/500\n",
            "5/5 [==============================] - 0s 45ms/step - loss: 0.0697 - mae: 0.2001 - val_loss: 0.3895 - val_mae: 0.4437\n",
            "Epoch 24/500\n",
            "5/5 [==============================] - 0s 52ms/step - loss: 0.0669 - mae: 0.1965 - val_loss: 0.3653 - val_mae: 0.4358\n",
            "Epoch 25/500\n",
            "5/5 [==============================] - 0s 53ms/step - loss: 0.0640 - mae: 0.1921 - val_loss: 0.3479 - val_mae: 0.4305\n",
            "Epoch 26/500\n",
            "5/5 [==============================] - 0s 47ms/step - loss: 0.0610 - mae: 0.1873 - val_loss: 0.3318 - val_mae: 0.4256\n",
            "Epoch 27/500\n",
            "5/5 [==============================] - 0s 46ms/step - loss: 0.0580 - mae: 0.1833 - val_loss: 0.3108 - val_mae: 0.4188\n",
            "Epoch 28/500\n",
            "5/5 [==============================] - 0s 53ms/step - loss: 0.0550 - mae: 0.1789 - val_loss: 0.2920 - val_mae: 0.4126\n",
            "Epoch 29/500\n",
            "5/5 [==============================] - 0s 48ms/step - loss: 0.0518 - mae: 0.1740 - val_loss: 0.2744 - val_mae: 0.4067\n",
            "Epoch 30/500\n",
            "5/5 [==============================] - 0s 47ms/step - loss: 0.0486 - mae: 0.1689 - val_loss: 0.2556 - val_mae: 0.3998\n",
            "Epoch 31/500\n",
            "5/5 [==============================] - 0s 49ms/step - loss: 0.0454 - mae: 0.1631 - val_loss: 0.2383 - val_mae: 0.3926\n",
            "Epoch 32/500\n",
            "5/5 [==============================] - 0s 47ms/step - loss: 0.0422 - mae: 0.1572 - val_loss: 0.2208 - val_mae: 0.3844\n",
            "Epoch 33/500\n",
            "5/5 [==============================] - 0s 48ms/step - loss: 0.0392 - mae: 0.1509 - val_loss: 0.2050 - val_mae: 0.3761\n",
            "Epoch 34/500\n",
            "5/5 [==============================] - 0s 43ms/step - loss: 0.0364 - mae: 0.1451 - val_loss: 0.1908 - val_mae: 0.3676\n",
            "Epoch 35/500\n",
            "5/5 [==============================] - 0s 53ms/step - loss: 0.0339 - mae: 0.1407 - val_loss: 0.1775 - val_mae: 0.3581\n",
            "Epoch 36/500\n",
            "5/5 [==============================] - 0s 48ms/step - loss: 0.0317 - mae: 0.1371 - val_loss: 0.1660 - val_mae: 0.3483\n",
            "Epoch 37/500\n",
            "5/5 [==============================] - 0s 46ms/step - loss: 0.0299 - mae: 0.1338 - val_loss: 0.1556 - val_mae: 0.3378\n",
            "Epoch 38/500\n",
            "5/5 [==============================] - 0s 46ms/step - loss: 0.0284 - mae: 0.1308 - val_loss: 0.1465 - val_mae: 0.3274\n",
            "Epoch 39/500\n",
            "5/5 [==============================] - 0s 49ms/step - loss: 0.0272 - mae: 0.1276 - val_loss: 0.1388 - val_mae: 0.3169\n",
            "Epoch 40/500\n",
            "5/5 [==============================] - 0s 47ms/step - loss: 0.0264 - mae: 0.1260 - val_loss: 0.1314 - val_mae: 0.3069\n",
            "Epoch 41/500\n",
            "5/5 [==============================] - 0s 48ms/step - loss: 0.0254 - mae: 0.1238 - val_loss: 0.1272 - val_mae: 0.2982\n",
            "Epoch 42/500\n",
            "5/5 [==============================] - 0s 47ms/step - loss: 0.0253 - mae: 0.1243 - val_loss: 0.1198 - val_mae: 0.2895\n",
            "Epoch 43/500\n",
            "5/5 [==============================] - 0s 52ms/step - loss: 0.0250 - mae: 0.1242 - val_loss: 0.1205 - val_mae: 0.2819\n",
            "Epoch 44/500\n",
            "5/5 [==============================] - 0s 48ms/step - loss: 0.0276 - mae: 0.1324 - val_loss: 0.1142 - val_mae: 0.2815\n",
            "Epoch 45/500\n",
            "5/5 [==============================] - 0s 43ms/step - loss: 0.0315 - mae: 0.1398 - val_loss: 0.1116 - val_mae: 0.2585\n",
            "Epoch 46/500\n",
            "5/5 [==============================] - 0s 49ms/step - loss: 0.0425 - mae: 0.1645 - val_loss: 0.1292 - val_mae: 0.2902\n",
            "Epoch 47/500\n",
            "5/5 [==============================] - 0s 43ms/step - loss: 0.0513 - mae: 0.1824 - val_loss: 0.0994 - val_mae: 0.2421\n",
            "Epoch 48/500\n",
            "5/5 [==============================] - 0s 49ms/step - loss: 0.0619 - mae: 0.1979 - val_loss: 0.1653 - val_mae: 0.3193\n",
            "Epoch 49/500\n",
            "5/5 [==============================] - 0s 46ms/step - loss: 0.0575 - mae: 0.1886 - val_loss: 0.0921 - val_mae: 0.2460\n",
            "Epoch 50/500\n",
            "5/5 [==============================] - 0s 46ms/step - loss: 0.0519 - mae: 0.1730 - val_loss: 0.1973 - val_mae: 0.3536\n",
            "Epoch 51/500\n",
            "5/5 [==============================] - 0s 50ms/step - loss: 0.0375 - mae: 0.1494 - val_loss: 0.0928 - val_mae: 0.2523\n",
            "Epoch 52/500\n",
            "5/5 [==============================] - 0s 47ms/step - loss: 0.0289 - mae: 0.1314 - val_loss: 0.1720 - val_mae: 0.3326\n",
            "Epoch 53/500\n",
            "5/5 [==============================] - 0s 47ms/step - loss: 0.0237 - mae: 0.1226 - val_loss: 0.1016 - val_mae: 0.2667\n",
            "Epoch 54/500\n",
            "5/5 [==============================] - 0s 50ms/step - loss: 0.0217 - mae: 0.1178 - val_loss: 0.1296 - val_mae: 0.2887\n",
            "Epoch 55/500\n",
            "5/5 [==============================] - 0s 47ms/step - loss: 0.0215 - mae: 0.1184 - val_loss: 0.1097 - val_mae: 0.2694\n",
            "Epoch 56/500\n",
            "5/5 [==============================] - 0s 51ms/step - loss: 0.0212 - mae: 0.1168 - val_loss: 0.1054 - val_mae: 0.2641\n",
            "Epoch 57/500\n",
            "5/5 [==============================] - 0s 48ms/step - loss: 0.0210 - mae: 0.1163 - val_loss: 0.1099 - val_mae: 0.2710\n",
            "Epoch 58/500\n",
            "5/5 [==============================] - 0s 47ms/step - loss: 0.0206 - mae: 0.1155 - val_loss: 0.0958 - val_mae: 0.2529\n",
            "Epoch 59/500\n",
            "5/5 [==============================] - 0s 48ms/step - loss: 0.0203 - mae: 0.1142 - val_loss: 0.1044 - val_mae: 0.2654\n",
            "Epoch 60/500\n",
            "5/5 [==============================] - 0s 41ms/step - loss: 0.0199 - mae: 0.1137 - val_loss: 0.0926 - val_mae: 0.2501\n",
            "Epoch 61/500\n",
            "5/5 [==============================] - 0s 47ms/step - loss: 0.0196 - mae: 0.1127 - val_loss: 0.0990 - val_mae: 0.2599\n",
            "Epoch 62/500\n",
            "5/5 [==============================] - 0s 43ms/step - loss: 0.0193 - mae: 0.1125 - val_loss: 0.0910 - val_mae: 0.2495\n",
            "Epoch 63/500\n",
            "5/5 [==============================] - 0s 44ms/step - loss: 0.0191 - mae: 0.1116 - val_loss: 0.0950 - val_mae: 0.2559\n",
            "Epoch 64/500\n",
            "5/5 [==============================] - 0s 48ms/step - loss: 0.0189 - mae: 0.1113 - val_loss: 0.0898 - val_mae: 0.2491\n",
            "Epoch 65/500\n",
            "5/5 [==============================] - 0s 49ms/step - loss: 0.0187 - mae: 0.1106 - val_loss: 0.0920 - val_mae: 0.2531\n",
            "Epoch 66/500\n",
            "5/5 [==============================] - 0s 47ms/step - loss: 0.0185 - mae: 0.1102 - val_loss: 0.0882 - val_mae: 0.2481\n",
            "Epoch 67/500\n",
            "5/5 [==============================] - 0s 46ms/step - loss: 0.0183 - mae: 0.1096 - val_loss: 0.0896 - val_mae: 0.2508\n"
          ]
        },
        {
          "output_type": "display_data",
          "data": {
            "image/png": "[encoded data removed]",
            "text/plain": [
              "<Figure size 432x288 with 1 Axes>"
            ]
          },
          "metadata": {
            "needs_background": "light"
          }
        }
      ]
    },
    {
      "cell_type": "code",
      "source": [
        "pred = model.predict(dataset_train).flatten()\n",
        "predVal = model.predict(dataset_val).flatten()\n",
        "\n",
        "start = 0\n",
        "step = 144\n",
        "plt.figure(figsize=(10,5))\n",
        "plt.grid('on')\n",
        "plt.plot(predVal[start:start+step], \n",
        "         label='Прогноз')\n",
        "plt.plot(yVal.flatten()[start:start+step], \n",
        "         label='Базовый ряд')\n",
        "plt.xlabel('Время')\n",
        "plt.ylabel('Значение ')\n",
        "\n",
        "plt.legend()\n",
        "plt.show()"
      ],
      "metadata": {
        "colab": {
          "base_uri": "https://localhost:8080/",
          "height": 334
        },
        "id": "ZdP08gBtSW7X",
        "outputId": "eb835872-7548-471f-af1f-390e018d44bd"
      },
      "execution_count": 68,
      "outputs": [
        {
          "output_type": "display_data",
          "data": {
            "image/png": "[encoded data removed]",
            "text/plain": [
              "<Figure size 720x360 with 1 Axes>"
            ]
          },
          "metadata": {
            "needs_background": "light"
          }
        }
      ]
    },
    {
      "cell_type": "code",
      "source": [
        "corr = []\n",
        "start = 0 # начальная точка для проверки корреляций рядов\n",
        "step = 9 # число точек для проверки корреляций рядов\n",
        "h=0\n",
        "yLen = yVal.shape[0]\n",
        "yValF = yVal[start:start+step].flatten() # ряд истиных значений\n",
        "yPredVal = predVal[start:start+step] # ряд предсказаний \n",
        "# смотрим лаговые корреляции yValF[:-i], yPredVal[i:] для лагов от 0 до 5\n",
        "for i in range(5):\n",
        "  corr.append(correlate(yValF[:-1-i], yPredVal[i:-1]))\n",
        "  \n",
        "plt.plot(corr, \n",
        "         label='Корреляция')\n",
        "plt.xlabel('лаговое расстояние между рядами')\n",
        "plt.ylabel('Значение корреляции')\n",
        "plt.legend()\n",
        "plt.show()\n",
        "\n",
        "corr"
      ],
      "metadata": {
        "colab": {
          "base_uri": "https://localhost:8080/",
          "height": 369
        },
        "id": "LVVE_Lh-TPw8",
        "outputId": "8674c0dd-71b3-46c8-a948-309bcdddd118"
      },
      "execution_count": 69,
      "outputs": [
        {
          "output_type": "display_data",
          "data": {
            "image/png": "[encoded data removed]",
            "text/plain": [
              "<Figure size 432x288 with 1 Axes>"
            ]
          },
          "metadata": {
            "needs_background": "light"
          }
        },
        {
          "output_type": "execute_result",
          "data": {
            "text/plain": [
              "[0.9641154261128241,\n",
              " 0.901004205926724,\n",
              " 0.9396816805045168,\n",
              " 0.8244439219042324,\n",
              " 0.5187224836393411]"
            ]
          },
          "metadata": {},
          "execution_count": 69
        }
      ]
    },
    {
      "cell_type": "code",
      "source": [
        "print(predVal.shape)\n",
        "print(pred.shape)\n",
        "pred2 = np.concatenate((pred, predVal), axis=0)\n",
        "pred2.shape"
      ],
      "metadata": {
        "colab": {
          "base_uri": "https://localhost:8080/"
        },
        "id": "DjBQQXAWg9ZH",
        "outputId": "236e05e2-9f30-4ff7-d2a5-552f6684c2fb"
      },
      "execution_count": 70,
      "outputs": [
        {
          "output_type": "stream",
          "name": "stdout",
          "text": [
            "(10,)\n",
            "(115,)\n"
          ]
        },
        {
          "output_type": "execute_result",
          "data": {
            "text/plain": [
              "(125,)"
            ]
          },
          "metadata": {},
          "execution_count": 70
        }
      ]
    },
    {
      "cell_type": "code",
      "source": [
        "print(yVal.shape)\n",
        "print(yTrain.shape)\n",
        "yTrain2 = np.concatenate((yTrain[:-2], yVal[:-2]), axis=0) # отсекаем по 2 записи из меток, чтобы корректно сопоставить временные ряды\n",
        "yTrain2.shape"
      ],
      "metadata": {
        "colab": {
          "base_uri": "https://localhost:8080/"
        },
        "id": "uWZ_4wgVhRp9",
        "outputId": "b0f8565e-8fd0-4aa1-9a03-f5e353ed3e42"
      },
      "execution_count": 71,
      "outputs": [
        {
          "output_type": "stream",
          "name": "stdout",
          "text": [
            "(12,)\n",
            "(117,)\n"
          ]
        },
        {
          "output_type": "execute_result",
          "data": {
            "text/plain": [
              "(125,)"
            ]
          },
          "metadata": {},
          "execution_count": 71
        }
      ]
    },
    {
      "cell_type": "markdown",
      "source": [
        "Итоговый результат на всем временном ряду (трейн + тест)"
      ],
      "metadata": {
        "id": "lcMNHPdNhzqM"
      }
    },
    {
      "cell_type": "code",
      "source": [
        "start = 0\n",
        "\n",
        "plt.figure(figsize=(10,5))\n",
        "plt.grid('on')\n",
        "plt.plot(pred2, \n",
        "         label='Прогноз')\n",
        "plt.plot(yTrain2.flatten(), \n",
        "         label='Базовый ряд')\n",
        "plt.xlabel('Время')\n",
        "plt.ylabel('Значение Close')\n",
        "plt.legend()\n",
        "plt.show()"
      ],
      "metadata": {
        "colab": {
          "base_uri": "https://localhost:8080/",
          "height": 334
        },
        "id": "CCl9oHpMSW4f",
        "outputId": "84c675c1-2acf-4573-9240-623e1003e8a6"
      },
      "execution_count": 72,
      "outputs": [
        {
          "output_type": "display_data",
          "data": {
            "image/png": "[encoded data removed]",
            "text/plain": [
              "<Figure size 720x360 with 1 Axes>"
            ]
          },
          "metadata": {
            "needs_background": "light"
          }
        }
      ]
    },
    {
      "cell_type": "markdown",
      "source": [
        "### Результаты и выводы.\n",
        "\n",
        "#### val_mae: 0.2508\n",
        "\n",
        "Что сработало: увеличение количества ядер на LSTM слое; добавление Conv1D после LSTM; увеличение порога ранней остановки до 20; увеличение количества эпох обучения. Также удалось улучшить точность, добавив дополнительный признак для двух самых активных месяцев в году, которые видны по данным (тем самым явно указав модели на сезонность).\n",
        "\n",
        "Не сработало: дополнительные слои LSTM, Conv1D и Dense не давали прироста в качестве.\n",
        "\n",
        "\n"
      ],
      "metadata": {
        "id": "RZ5ltbxMpze5"
      }
    },
    {
      "cell_type": "code",
      "execution_count": null,
      "metadata": {
        "id": "zDHnKPd6ZJG7"
      },
      "outputs": [],
      "source": [
        ""
      ]
    }
  ],
  "metadata": {
    "colab": {
      "collapsed_sections": [],
      "name": "HW_5",
      "provenance": []
    },
    "kernelspec": {
      "display_name": "Python 3",
      "name": "python3"
    }
  },
  "nbformat": 4,
  "nbformat_minor": 0
}